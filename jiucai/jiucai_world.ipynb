{
 "cells": [
  {
   "cell_type": "code",
   "execution_count": 1,
   "metadata": {},
   "outputs": [
    {
     "name": "stdout",
     "output_type": "stream",
     "text": [
      "\n",
      "!!!!\n",
      "DISCLAIMER: TinyTroupe relies on Artificial Intelligence (AI) models to generate content. \n",
      "The AI models are not perfect and may produce inappropriate or inacurate results. \n",
      "For any serious or consequential use, please review the generated content before using it.\n",
      "!!!!\n",
      "\n",
      "Looking for default config on: c:\\Users\\hadoo\\dev\\TinyTroupe\\jiucai\\..\\tinytroupe\\config.ini\n",
      "Found custom config on: c:\\Users\\hadoo\\dev\\TinyTroupe\\jiucai\\config.ini\n",
      "\n",
      "=================================\n",
      "Current TinyTroupe configuration \n",
      "=================================\n",
      "[OpenAI]\n",
      "api_type = ollama\n",
      "azure_api_version = 2023-05-15\n",
      "model = gpt-4o-mini\n",
      "max_tokens = 4000\n",
      "temperature = 1.5\n",
      "freq_penalty = 0.3\n",
      "presence_penalty = 0.0\n",
      "timeout = 60\n",
      "max_attempts = 5\n",
      "waiting_time = 2\n",
      "exponential_backoff_factor = 5\n",
      "embedding_model = text-embedding-3-small\n",
      "cache_api_calls = False\n",
      "cache_file_name = openai_api_cache.pickle\n",
      "max_content_display_length = 1024\n",
      "\n",
      "[Simulation]\n",
      "rai_harmful_content_prevention = True\n",
      "rai_copyright_infringement_prevention = True\n",
      "\n",
      "[Logging]\n",
      "loglevel = INFO\n",
      "\n",
      "[Ollama]\n",
      "base_url = http://100.103.46.96:11434/api/chat\n",
      "model = qwen2.5:32b-instruct\n",
      "temperature = 0.7\n",
      "top_p = 0.95\n",
      "timeout = 360\n",
      "embedding_url = http://100.103.46.96:11434/\n",
      "embedding_model = bge-m3:latest\n",
      "\n"
     ]
    }
   ],
   "source": [
    "import json\n",
    "import sys\n",
    "sys.path.append('..')\n",
    "\n",
    "#import ..tinytroupe\n",
    "from tinytroupe.agent import TinyPerson\n",
    "from tinytroupe.environment import TinyWorld, TinySocialNetwork\n",
    "from tinytroupe.examples import *"
   ]
  },
  {
   "cell_type": "code",
   "execution_count": 2,
   "metadata": {},
   "outputs": [],
   "source": [
    "from tinytroupe.factory import TinyPersonFactory"
   ]
  },
  {
   "cell_type": "code",
   "execution_count": 3,
   "metadata": {},
   "outputs": [],
   "source": [
    "factory = TinyPersonFactory('USA best finnance consulting firm')"
   ]
  },
  {
   "cell_type": "code",
   "execution_count": 4,
   "metadata": {},
   "outputs": [
    {
     "name": "stderr",
     "output_type": "stream",
     "text": [
      "2024-12-10 08:15:06,118 - tinytroupe - INFO - Starting the person generation based on that context: USA best finnance consulting firm\n"
     ]
    }
   ],
   "source": [
    "person_1 = factory.generate_person(\"John, young man from London. very successful for investing on high tech stocks. He is a big fan of Apple and trying to decide whether to buy TSLA stock\")"
   ]
  },
  {
   "cell_type": "code",
   "execution_count": 6,
   "metadata": {},
   "outputs": [
    {
     "name": "stderr",
     "output_type": "stream",
     "text": [
      "2024-12-10 08:16:46,597 - tinytroupe - INFO - Starting the person generation based on that context: USA best finnance consulting firm\n"
     ]
    }
   ],
   "source": [
    "person_2 = factory.generate_person(\"Rez, middle aged man from LA. very successful for investing on high tech stocks. He has a good sense of humor.\")"
   ]
  },
  {
   "cell_type": "code",
   "execution_count": 7,
   "metadata": {},
   "outputs": [
    {
     "data": {
      "text/plain": [
       "{'json_serializable_class_name': 'TinyPerson',\n",
       " 'episodic_memory': {'json_serializable_class_name': 'EpisodicMemory',\n",
       "  'fixed_prefix_length': 100,\n",
       "  'lookback_length': 100,\n",
       "  'memory': []},\n",
       " 'semantic_memory': {'json_serializable_class_name': 'SemanticMemory',\n",
       "  'documents_paths': [],\n",
       "  'documents_web_urls': [],\n",
       "  'documents': [],\n",
       "  'filename_to_document': {}},\n",
       " 'name': 'Rez Carter',\n",
       " '_mental_faculties': [],\n",
       " '_configuration': {'name': 'Rez Carter',\n",
       "  'age': 47,\n",
       "  'nationality': 'American',\n",
       "  'country_of_residence': 'United States',\n",
       "  'occupation': 'Financial Consultant',\n",
       "  'routines': [{'routine': 'Every morning, you wake up early to review the latest tech news before heading to work.'},\n",
       "   {'routine': 'After work, you often attend networking events or meetups related to high-tech industries.'}],\n",
       "  'occupation_description': 'You are a financial consultant at one of the best finance consulting firms in the USA. Your expertise lies in high-tech stock investments, and you have a proven track record of success. You enjoy analyzing market trends and making strategic investment decisions for your clients. Despite your professional successes, you sometimes struggle with balancing work demands and personal life.',\n",
       "  'personality_traits': [{'trait': 'You have a good sense of humor and enjoy making light-hearted jokes during stressful situations.'},\n",
       "   {'trait': 'You are highly analytical but can also be impulsive when it comes to personal investments.'},\n",
       "   {'trait': 'You are very detail-oriented, which helps you in your work but can sometimes make you overly cautious.'}],\n",
       "  'professional_interests': [{'interest': 'Emerging technologies and their potential impact on the stock market.'},\n",
       "   {'interest': 'Strategic investment planning for high-tech companies.'},\n",
       "   {'interest': 'Networking with other professionals in the tech industry to stay informed about new trends and opportunities.'}],\n",
       "  'personal_interests': [{'interest': 'Attending live music concerts, especially rock and blues.'},\n",
       "   {'interest': 'Cooking gourmet meals at home on weekends.'},\n",
       "   {'interest': \"Volunteering at a local charity that supports underprivileged children's education in STEM fields.\"}],\n",
       "  'skills': [{'skill': 'You are highly skilled in financial analysis and investment strategies.'},\n",
       "   {'skill': 'You have excellent networking skills, which help you stay informed about the latest industry trends.'},\n",
       "   {'skill': 'You are proficient with various financial software tools used for market analysis and portfolio management.'}],\n",
       "  'relationships': [{'name': 'Sarah',\n",
       "    'description': 'Your long-time colleague who specializes in real estate investments. You often discuss investment strategies over coffee.'},\n",
       "   {'name': 'Mike',\n",
       "    'description': \"A tech entrepreneur you've been mentoring, who occasionally provides insider information on upcoming startups.\"}],\n",
       "  'current_datetime': None,\n",
       "  'current_location': 'Los Angeles, California',\n",
       "  'current_context': [],\n",
       "  'current_attention': None,\n",
       "  'current_goals': [],\n",
       "  'current_emotions': 'Feeling confident about a recent successful high-tech stock recommendation for a client.',\n",
       "  'current_memory_context': None,\n",
       "  'currently_accessible_agents': []}}"
      ]
     },
     "execution_count": 7,
     "metadata": {},
     "output_type": "execute_result"
    }
   ],
   "source": [
    "person_2.to_json()"
   ]
  },
  {
   "cell_type": "code",
   "execution_count": null,
   "metadata": {},
   "outputs": [],
   "source": []
  },
  {
   "cell_type": "code",
   "execution_count": 8,
   "metadata": {},
   "outputs": [
    {
     "name": "stderr",
     "output_type": "stream",
     "text": [
      "2024-12-10 08:18:01,265 - tinytroupe - INFO - Reading documents from the following web URLs: ['https://www.fool.com/earnings/call-transcripts/2024/10/23/tesla-tsla-q3-2024-earnings-call-transcript/']\n"
     ]
    }
   ],
   "source": [
    "person_1.read_documents_from_web(['https://www.fool.com/earnings/call-transcripts/2024/10/23/tesla-tsla-q3-2024-earnings-call-transcript/'])"
   ]
  },
  {
   "cell_type": "code",
   "execution_count": 9,
   "metadata": {},
   "outputs": [],
   "source": [
    "world = TinyWorld(\"Chat Room\", [person_1, person_2])\n",
    "world.make_everyone_accessible()"
   ]
  },
  {
   "cell_type": "code",
   "execution_count": 10,
   "metadata": {},
   "outputs": [
    {
     "data": {
      "text/html": [
       "<pre style=\"margin:0px;;white-space:pre;overflow-x:auto;line-height:normal;font-family:Menlo,'DejaVu Sans Mono',consolas,'Courier New',monospace\"><span style=\"color: #00ffff; text-decoration-color: #00ffff; font-weight: bold; font-style: italic; text-decoration: underline\">USER</span><span style=\"color: #00ffff; text-decoration-color: #00ffff; font-weight: bold; font-style: italic\"> --&gt; </span><span style=\"color: #00ffff; text-decoration-color: #00ffff; font-weight: bold; font-style: italic; text-decoration: underline\">John Smith</span><span style=\"color: #00ffff; text-decoration-color: #00ffff; font-weight: bold; font-style: italic\">: [CONVERSATION] </span>\n",
       "<span style=\"color: #00ffff; text-decoration-color: #00ffff; font-weight: bold; font-style: italic\">          &gt; what news from Tesla and its finnacial report</span>\n",
       "</pre>\n"
      ],
      "text/plain": [
       "\u001b[1;3;4;38;5;51mUSER\u001b[0m\u001b[1;3;38;5;51m --> \u001b[0m\u001b[1;3;4;38;5;51mJohn Smith\u001b[0m\u001b[1;3;38;5;51m: \u001b[0m\u001b[1;3;38;5;51m[\u001b[0m\u001b[1;3;38;5;51mCONVERSATION\u001b[0m\u001b[1;3;38;5;51m]\u001b[0m\u001b[1;3;38;5;51m \u001b[0m\n",
       "\u001b[1;3;38;5;51m          > what news from Tesla and its finnacial report\u001b[0m\n"
      ]
     },
     "metadata": {},
     "output_type": "display_data"
    },
    {
     "data": {
      "text/html": [
       "<pre style=\"margin:0px;;white-space:pre;overflow-x:auto;line-height:normal;font-family:Menlo,'DejaVu Sans Mono',consolas,'Courier New',monospace\"><span style=\"color: #00ffff; text-decoration-color: #00ffff; font-weight: bold; font-style: italic\">       + --&gt; </span><span style=\"color: #00ffff; text-decoration-color: #00ffff; font-weight: bold; font-style: italic; text-decoration: underline\">Rez Carter</span>\n",
       "</pre>\n"
      ],
      "text/plain": [
       "\u001b[1;3;38;5;51m       + --> \u001b[0m\u001b[1;3;4;38;5;51mRez Carter\u001b[0m\n"
      ]
     },
     "metadata": {},
     "output_type": "display_data"
    }
   ],
   "source": [
    "world.broadcast('what news from Tesla and its finnacial report')"
   ]
  },
  {
   "cell_type": "code",
   "execution_count": 11,
   "metadata": {},
   "outputs": [
    {
     "data": {
      "text/html": [
       "<pre style=\"margin:0px;;white-space:pre;overflow-x:auto;line-height:normal;font-family:Menlo,'DejaVu Sans Mono',consolas,'Courier New',monospace\"><span style=\"color: #00ffff; text-decoration-color: #00ffff; font-weight: bold; font-style: italic; text-decoration: underline\">USER</span><span style=\"color: #00ffff; text-decoration-color: #00ffff; font-weight: bold; font-style: italic\"> --&gt; </span><span style=\"color: #00ffff; text-decoration-color: #00ffff; font-weight: bold; font-style: italic; text-decoration: underline\">John Smith</span><span style=\"color: #00ffff; text-decoration-color: #00ffff; font-weight: bold; font-style: italic\">: [CONVERSATION] </span>\n",
       "<span style=\"color: #00ffff; text-decoration-color: #00ffff; font-weight: bold; font-style: italic\">          &gt; Talk to Rez to disscuss investing decision about Tesla</span>\n",
       "</pre>\n"
      ],
      "text/plain": [
       "\u001b[1;3;4;38;5;51mUSER\u001b[0m\u001b[1;3;38;5;51m --> \u001b[0m\u001b[1;3;4;38;5;51mJohn Smith\u001b[0m\u001b[1;3;38;5;51m: \u001b[0m\u001b[1;3;38;5;51m[\u001b[0m\u001b[1;3;38;5;51mCONVERSATION\u001b[0m\u001b[1;3;38;5;51m]\u001b[0m\u001b[1;3;38;5;51m \u001b[0m\n",
       "\u001b[1;3;38;5;51m          > Talk to Rez to disscuss investing decision about Tesla\u001b[0m\n"
      ]
     },
     "metadata": {},
     "output_type": "display_data"
    },
    {
     "name": "stderr",
     "output_type": "stream",
     "text": [
      "2024-12-10 08:20:39,636 - tinytroupe - INFO - [Chat Room] Running world simulation step 1 of 4.\n"
     ]
    },
    {
     "data": {
      "text/html": [
       "<pre style=\"margin:0px;;white-space:pre;overflow-x:auto;line-height:normal;font-family:Menlo,'DejaVu Sans Mono',consolas,'Courier New',monospace\"><span style=\"color: #00ff00; text-decoration-color: #00ff00\">────────────────────────────────────────────── </span>Chat Room step <span style=\"color: #008080; text-decoration-color: #008080; font-weight: bold\">1</span> of <span style=\"color: #008080; text-decoration-color: #008080; font-weight: bold\">4</span><span style=\"color: #00ff00; text-decoration-color: #00ff00\"> ──────────────────────────────────────────────</span>\n",
       "</pre>\n"
      ],
      "text/plain": [
       "\u001b[92m────────────────────────────────────────────── \u001b[0mChat Room step \u001b[1;36m1\u001b[0m of \u001b[1;36m4\u001b[0m\u001b[92m ──────────────────────────────────────────────\u001b[0m\n"
      ]
     },
     "metadata": {},
     "output_type": "display_data"
    },
    {
     "name": "stderr",
     "output_type": "stream",
     "text": [
      "2024-12-10 08:20:39,640 - tinytroupe - INFO - [Chat Room] No timedelta provided, so the datetime was not advanced.\n"
     ]
    },
    {
     "data": {
      "text/html": [
       "<pre style=\"margin:0px;;white-space:pre;overflow-x:auto;line-height:normal;font-family:Menlo,'DejaVu Sans Mono',consolas,'Courier New',monospace\"><span style=\"color: #00d700; text-decoration-color: #00d700; font-weight: bold; text-decoration: underline\">John Smith</span><span style=\"color: #00d700; text-decoration-color: #00d700; font-weight: bold\"> acts: [TALK] </span>\n",
       "<span style=\"color: #00d700; text-decoration-color: #00d700; font-weight: bold\">                &gt; Hi Rez, have you seen the latest financial report from Tesla?</span>\n",
       "</pre>\n"
      ],
      "text/plain": [
       "\u001b[1;4;38;5;40mJohn Smith\u001b[0m\u001b[1;38;5;40m acts: \u001b[0m\u001b[1;38;5;40m[\u001b[0m\u001b[1;38;5;40mTALK\u001b[0m\u001b[1;38;5;40m]\u001b[0m\u001b[1;38;5;40m \u001b[0m\n",
       "\u001b[1;38;5;40m                > Hi Rez, have you seen the latest financial report from Tesla?\u001b[0m\n"
      ]
     },
     "metadata": {},
     "output_type": "display_data"
    },
    {
     "data": {
      "text/html": [
       "<pre style=\"margin:0px;;white-space:pre;overflow-x:auto;line-height:normal;font-family:Menlo,'DejaVu Sans Mono',consolas,'Courier New',monospace\"><span style=\"color: #00d700; text-decoration-color: #00d700; font-weight: bold; text-decoration: underline\">John Smith</span><span style=\"color: #00d700; text-decoration-color: #00d700; font-weight: bold\"> acts: [TALK] </span>\n",
       "<span style=\"color: #00d700; text-decoration-color: #00d700; font-weight: bold\">                &gt; I've been analyzing it and there are some interesting points I'd like to discuss.</span>\n",
       "</pre>\n"
      ],
      "text/plain": [
       "\u001b[1;4;38;5;40mJohn Smith\u001b[0m\u001b[1;38;5;40m acts: \u001b[0m\u001b[1;38;5;40m[\u001b[0m\u001b[1;38;5;40mTALK\u001b[0m\u001b[1;38;5;40m]\u001b[0m\u001b[1;38;5;40m \u001b[0m\n",
       "\u001b[1;38;5;40m                > I've been analyzing it and there are some interesting points I'd like to discuss.\u001b[0m\n"
      ]
     },
     "metadata": {},
     "output_type": "display_data"
    },
    {
     "data": {
      "text/html": [
       "<pre style=\"margin:0px;;white-space:pre;overflow-x:auto;line-height:normal;font-family:Menlo,'DejaVu Sans Mono',consolas,'Courier New',monospace\"><span style=\"color: #00d700; text-decoration-color: #00d700; font-weight: bold; text-decoration: underline\">John Smith</span><span style=\"color: #00d700; text-decoration-color: #00d700; font-weight: bold\"> acts: [TALK] </span>\n",
       "<span style=\"color: #00d700; text-decoration-color: #00d700; font-weight: bold\">                &gt; Hi Rez, have you seen the latest financial report from Tesla?</span>\n",
       "</pre>\n"
      ],
      "text/plain": [
       "\u001b[1;4;38;5;40mJohn Smith\u001b[0m\u001b[1;38;5;40m acts: \u001b[0m\u001b[1;38;5;40m[\u001b[0m\u001b[1;38;5;40mTALK\u001b[0m\u001b[1;38;5;40m]\u001b[0m\u001b[1;38;5;40m \u001b[0m\n",
       "\u001b[1;38;5;40m                > Hi Rez, have you seen the latest financial report from Tesla?\u001b[0m\n"
      ]
     },
     "metadata": {},
     "output_type": "display_data"
    },
    {
     "data": {
      "text/html": [
       "<pre style=\"margin:0px;;white-space:pre;overflow-x:auto;line-height:normal;font-family:Menlo,'DejaVu Sans Mono',consolas,'Courier New',monospace\">          <span style=\"color: #00d700; text-decoration-color: #00d700; font-weight: bold\">       + --&gt; </span><span style=\"color: #00d700; text-decoration-color: #00d700; font-weight: bold; text-decoration: underline\">Rez Carter</span>\n",
       "</pre>\n"
      ],
      "text/plain": [
       "          \u001b[1;38;5;40m       + --> \u001b[0m\u001b[1;4;38;5;40mRez Carter\u001b[0m\n"
      ]
     },
     "metadata": {},
     "output_type": "display_data"
    },
    {
     "data": {
      "text/html": [
       "<pre style=\"margin:0px;;white-space:pre;overflow-x:auto;line-height:normal;font-family:Menlo,'DejaVu Sans Mono',consolas,'Courier New',monospace\">          <span style=\"color: #00d700; text-decoration-color: #00d700; font-weight: bold\">       + --&gt; </span><span style=\"color: #00d700; text-decoration-color: #00d700; font-weight: bold; text-decoration: underline\">Rez Carter</span>\n",
       "</pre>\n"
      ],
      "text/plain": [
       "          \u001b[1;38;5;40m       + --> \u001b[0m\u001b[1;4;38;5;40mRez Carter\u001b[0m\n"
      ]
     },
     "metadata": {},
     "output_type": "display_data"
    },
    {
     "name": "stderr",
     "output_type": "stream",
     "text": [
      "2024-12-10 08:22:48,402 - tinytroupe - WARNING - [John Smith] Agent John Smith is acting in a loop. This may be a bug. Let's stop it here anyway.\n"
     ]
    },
    {
     "data": {
      "text/html": [
       "<pre style=\"margin:0px;;white-space:pre;overflow-x:auto;line-height:normal;font-family:Menlo,'DejaVu Sans Mono',consolas,'Courier New',monospace\"><span style=\"color: #00ffff; text-decoration-color: #00ffff; font-weight: bold; font-style: italic; text-decoration: underline\">John Smith</span><span style=\"color: #00ffff; text-decoration-color: #00ffff; font-weight: bold; font-style: italic\"> --&gt; </span><span style=\"color: #00ffff; text-decoration-color: #00ffff; font-weight: bold; font-style: italic; text-decoration: underline\">Rez Carter</span><span style=\"color: #00ffff; text-decoration-color: #00ffff; font-weight: bold; font-style: italic\">: [CONVERSATION] </span>\n",
       "<span style=\"color: #00ffff; text-decoration-color: #00ffff; font-weight: bold; font-style: italic\">                &gt; Hi Rez, have you seen the latest financial report from Tesla?</span>\n",
       "</pre>\n"
      ],
      "text/plain": [
       "\u001b[1;3;4;38;5;51mJohn Smith\u001b[0m\u001b[1;3;38;5;51m --> \u001b[0m\u001b[1;3;4;38;5;51mRez Carter\u001b[0m\u001b[1;3;38;5;51m: \u001b[0m\u001b[1;3;38;5;51m[\u001b[0m\u001b[1;3;38;5;51mCONVERSATION\u001b[0m\u001b[1;3;38;5;51m]\u001b[0m\u001b[1;3;38;5;51m \u001b[0m\n",
       "\u001b[1;3;38;5;51m                > Hi Rez, have you seen the latest financial report from Tesla?\u001b[0m\n"
      ]
     },
     "metadata": {},
     "output_type": "display_data"
    },
    {
     "data": {
      "text/html": [
       "<pre style=\"margin:0px;;white-space:pre;overflow-x:auto;line-height:normal;font-family:Menlo,'DejaVu Sans Mono',consolas,'Courier New',monospace\"><span style=\"color: #00ffff; text-decoration-color: #00ffff; font-weight: bold; font-style: italic; text-decoration: underline\">John Smith</span><span style=\"color: #00ffff; text-decoration-color: #00ffff; font-weight: bold; font-style: italic\"> --&gt; </span><span style=\"color: #00ffff; text-decoration-color: #00ffff; font-weight: bold; font-style: italic; text-decoration: underline\">Rez Carter</span><span style=\"color: #00ffff; text-decoration-color: #00ffff; font-weight: bold; font-style: italic\">: [CONVERSATION] </span>\n",
       "<span style=\"color: #00ffff; text-decoration-color: #00ffff; font-weight: bold; font-style: italic\">                &gt; I've been analyzing it and there are some interesting points I'd like to discuss.</span>\n",
       "</pre>\n"
      ],
      "text/plain": [
       "\u001b[1;3;4;38;5;51mJohn Smith\u001b[0m\u001b[1;3;38;5;51m --> \u001b[0m\u001b[1;3;4;38;5;51mRez Carter\u001b[0m\u001b[1;3;38;5;51m: \u001b[0m\u001b[1;3;38;5;51m[\u001b[0m\u001b[1;3;38;5;51mCONVERSATION\u001b[0m\u001b[1;3;38;5;51m]\u001b[0m\u001b[1;3;38;5;51m \u001b[0m\n",
       "\u001b[1;3;38;5;51m                > I've been analyzing it and there are some interesting points I'd like to discuss.\u001b[0m\n"
      ]
     },
     "metadata": {},
     "output_type": "display_data"
    },
    {
     "data": {
      "text/html": [
       "<pre style=\"margin:0px;;white-space:pre;overflow-x:auto;line-height:normal;font-family:Menlo,'DejaVu Sans Mono',consolas,'Courier New',monospace\"><span style=\"color: #00ffff; text-decoration-color: #00ffff; font-weight: bold; font-style: italic; text-decoration: underline\">John Smith</span><span style=\"color: #00ffff; text-decoration-color: #00ffff; font-weight: bold; font-style: italic\"> --&gt; </span><span style=\"color: #00ffff; text-decoration-color: #00ffff; font-weight: bold; font-style: italic; text-decoration: underline\">Rez Carter</span><span style=\"color: #00ffff; text-decoration-color: #00ffff; font-weight: bold; font-style: italic\">: [CONVERSATION] </span>\n",
       "<span style=\"color: #00ffff; text-decoration-color: #00ffff; font-weight: bold; font-style: italic\">                &gt; Hi Rez, have you seen the latest financial report from Tesla?</span>\n",
       "</pre>\n"
      ],
      "text/plain": [
       "\u001b[1;3;4;38;5;51mJohn Smith\u001b[0m\u001b[1;3;38;5;51m --> \u001b[0m\u001b[1;3;4;38;5;51mRez Carter\u001b[0m\u001b[1;3;38;5;51m: \u001b[0m\u001b[1;3;38;5;51m[\u001b[0m\u001b[1;3;38;5;51mCONVERSATION\u001b[0m\u001b[1;3;38;5;51m]\u001b[0m\u001b[1;3;38;5;51m \u001b[0m\n",
       "\u001b[1;3;38;5;51m                > Hi Rez, have you seen the latest financial report from Tesla?\u001b[0m\n"
      ]
     },
     "metadata": {},
     "output_type": "display_data"
    },
    {
     "data": {
      "text/html": [
       "<pre style=\"margin:0px;;white-space:pre;overflow-x:auto;line-height:normal;font-family:Menlo,'DejaVu Sans Mono',consolas,'Courier New',monospace\">          <span style=\"color: #00ffff; text-decoration-color: #00ffff; font-weight: bold; font-style: italic\">       + --&gt; </span><span style=\"color: #00ffff; text-decoration-color: #00ffff; font-weight: bold; font-style: italic; text-decoration: underline\">Rez Carter</span>\n",
       "</pre>\n"
      ],
      "text/plain": [
       "          \u001b[1;3;38;5;51m       + --> \u001b[0m\u001b[1;3;4;38;5;51mRez Carter\u001b[0m\n"
      ]
     },
     "metadata": {},
     "output_type": "display_data"
    },
    {
     "data": {
      "text/html": [
       "<pre style=\"margin:0px;;white-space:pre;overflow-x:auto;line-height:normal;font-family:Menlo,'DejaVu Sans Mono',consolas,'Courier New',monospace\">          <span style=\"color: #00ffff; text-decoration-color: #00ffff; font-weight: bold; font-style: italic\">       + --&gt; </span><span style=\"color: #00ffff; text-decoration-color: #00ffff; font-weight: bold; font-style: italic; text-decoration: underline\">Rez Carter</span>\n",
       "</pre>\n"
      ],
      "text/plain": [
       "          \u001b[1;3;38;5;51m       + --> \u001b[0m\u001b[1;3;4;38;5;51mRez Carter\u001b[0m\n"
      ]
     },
     "metadata": {},
     "output_type": "display_data"
    },
    {
     "data": {
      "text/html": [
       "<pre style=\"margin:0px;;white-space:pre;overflow-x:auto;line-height:normal;font-family:Menlo,'DejaVu Sans Mono',consolas,'Courier New',monospace\"><span style=\"color: #00d700; text-decoration-color: #00d700; font-weight: bold; text-decoration: underline\">Rez Carter</span><span style=\"color: #00d700; text-decoration-color: #00d700; font-weight: bold\"> acts: [TALK] </span>\n",
       "<span style=\"color: #00d700; text-decoration-color: #00d700; font-weight: bold\">                &gt; Hi John, yes I've had a look at it. It's quite impressive actually.</span>\n",
       "</pre>\n"
      ],
      "text/plain": [
       "\u001b[1;4;38;5;40mRez Carter\u001b[0m\u001b[1;38;5;40m acts: \u001b[0m\u001b[1;38;5;40m[\u001b[0m\u001b[1;38;5;40mTALK\u001b[0m\u001b[1;38;5;40m]\u001b[0m\u001b[1;38;5;40m \u001b[0m\n",
       "\u001b[1;38;5;40m                > Hi John, yes I've had a look at it. It's quite impressive actually.\u001b[0m\n"
      ]
     },
     "metadata": {},
     "output_type": "display_data"
    },
    {
     "data": {
      "text/html": [
       "<pre style=\"margin:0px;;white-space:pre;overflow-x:auto;line-height:normal;font-family:Menlo,'DejaVu Sans Mono',consolas,'Courier New',monospace\">          <span style=\"color: #00d700; text-decoration-color: #00d700; font-weight: bold\">       + --&gt; </span><span style=\"color: #00d700; text-decoration-color: #00d700; font-weight: bold; text-decoration: underline\">John Smith</span>\n",
       "</pre>\n"
      ],
      "text/plain": [
       "          \u001b[1;38;5;40m       + --> \u001b[0m\u001b[1;4;38;5;40mJohn Smith\u001b[0m\n"
      ]
     },
     "metadata": {},
     "output_type": "display_data"
    },
    {
     "data": {
      "text/html": [
       "<pre style=\"margin:0px;;white-space:pre;overflow-x:auto;line-height:normal;font-family:Menlo,'DejaVu Sans Mono',consolas,'Courier New',monospace\">          <span style=\"color: #00d700; text-decoration-color: #00d700; font-weight: bold\">       + --&gt; </span><span style=\"color: #00d700; text-decoration-color: #00d700; font-weight: bold; text-decoration: underline\">John Smith</span>\n",
       "</pre>\n"
      ],
      "text/plain": [
       "          \u001b[1;38;5;40m       + --> \u001b[0m\u001b[1;4;38;5;40mJohn Smith\u001b[0m\n"
      ]
     },
     "metadata": {},
     "output_type": "display_data"
    },
    {
     "data": {
      "text/html": [
       "<pre style=\"margin:0px;;white-space:pre;overflow-x:auto;line-height:normal;font-family:Menlo,'DejaVu Sans Mono',consolas,'Courier New',monospace\">          <span style=\"color: #00d700; text-decoration-color: #00d700; font-weight: bold\">       + --&gt; ...others...</span>\n",
       "</pre>\n"
      ],
      "text/plain": [
       "          \u001b[1;38;5;40m       + --> \u001b[0m\u001b[1;38;5;40m...\u001b[0m\u001b[1;38;5;40mothers\u001b[0m\u001b[1;38;5;40m...\u001b[0m\n"
      ]
     },
     "metadata": {},
     "output_type": "display_data"
    },
    {
     "name": "stderr",
     "output_type": "stream",
     "text": [
      "2024-12-10 08:23:45,577 - tinytroupe - WARNING - [Rez Carter] Agent Rez Carter is acting in a loop. This may be a bug. Let's stop it here anyway.\n"
     ]
    },
    {
     "data": {
      "text/html": [
       "<pre style=\"margin:0px;;white-space:pre;overflow-x:auto;line-height:normal;font-family:Menlo,'DejaVu Sans Mono',consolas,'Courier New',monospace\"><span style=\"color: #00ffff; text-decoration-color: #00ffff; font-weight: bold; font-style: italic; text-decoration: underline\">Rez Carter</span><span style=\"color: #00ffff; text-decoration-color: #00ffff; font-weight: bold; font-style: italic\"> --&gt; </span><span style=\"color: #00ffff; text-decoration-color: #00ffff; font-weight: bold; font-style: italic; text-decoration: underline\">John Smith</span><span style=\"color: #00ffff; text-decoration-color: #00ffff; font-weight: bold; font-style: italic\">: [CONVERSATION] </span>\n",
       "<span style=\"color: #00ffff; text-decoration-color: #00ffff; font-weight: bold; font-style: italic\">                &gt; Hi John, yes I've had a look at it. It's quite impressive actually.</span>\n",
       "</pre>\n"
      ],
      "text/plain": [
       "\u001b[1;3;4;38;5;51mRez Carter\u001b[0m\u001b[1;3;38;5;51m --> \u001b[0m\u001b[1;3;4;38;5;51mJohn Smith\u001b[0m\u001b[1;3;38;5;51m: \u001b[0m\u001b[1;3;38;5;51m[\u001b[0m\u001b[1;3;38;5;51mCONVERSATION\u001b[0m\u001b[1;3;38;5;51m]\u001b[0m\u001b[1;3;38;5;51m \u001b[0m\n",
       "\u001b[1;3;38;5;51m                > Hi John, yes I've had a look at it. It's quite impressive actually.\u001b[0m\n"
      ]
     },
     "metadata": {},
     "output_type": "display_data"
    },
    {
     "data": {
      "text/html": [
       "<pre style=\"margin:0px;;white-space:pre;overflow-x:auto;line-height:normal;font-family:Menlo,'DejaVu Sans Mono',consolas,'Courier New',monospace\">          <span style=\"color: #00ffff; text-decoration-color: #00ffff; font-weight: bold; font-style: italic\">       + --&gt; </span><span style=\"color: #00ffff; text-decoration-color: #00ffff; font-weight: bold; font-style: italic; text-decoration: underline\">John Smith</span>\n",
       "</pre>\n"
      ],
      "text/plain": [
       "          \u001b[1;3;38;5;51m       + --> \u001b[0m\u001b[1;3;4;38;5;51mJohn Smith\u001b[0m\n"
      ]
     },
     "metadata": {},
     "output_type": "display_data"
    },
    {
     "data": {
      "text/html": [
       "<pre style=\"margin:0px;;white-space:pre;overflow-x:auto;line-height:normal;font-family:Menlo,'DejaVu Sans Mono',consolas,'Courier New',monospace\">          <span style=\"color: #00ffff; text-decoration-color: #00ffff; font-weight: bold; font-style: italic\">       + --&gt; </span><span style=\"color: #00ffff; text-decoration-color: #00ffff; font-weight: bold; font-style: italic; text-decoration: underline\">John Smith</span>\n",
       "</pre>\n"
      ],
      "text/plain": [
       "          \u001b[1;3;38;5;51m       + --> \u001b[0m\u001b[1;3;4;38;5;51mJohn Smith\u001b[0m\n"
      ]
     },
     "metadata": {},
     "output_type": "display_data"
    },
    {
     "data": {
      "text/html": [
       "<pre style=\"margin:0px;;white-space:pre;overflow-x:auto;line-height:normal;font-family:Menlo,'DejaVu Sans Mono',consolas,'Courier New',monospace\">          <span style=\"color: #00ffff; text-decoration-color: #00ffff; font-weight: bold; font-style: italic\">       + --&gt; ...others...</span>\n",
       "</pre>\n"
      ],
      "text/plain": [
       "          \u001b[1;3;38;5;51m       + --> \u001b[0m\u001b[1;3;38;5;51m...\u001b[0m\u001b[1;3;38;5;51mothers\u001b[0m\u001b[1;3;38;5;51m...\u001b[0m\n"
      ]
     },
     "metadata": {},
     "output_type": "display_data"
    },
    {
     "name": "stderr",
     "output_type": "stream",
     "text": [
      "2024-12-10 08:23:45,585 - tinytroupe - INFO - [Chat Room] Running world simulation step 2 of 4.\n"
     ]
    },
    {
     "data": {
      "text/html": [
       "<pre style=\"margin:0px;;white-space:pre;overflow-x:auto;line-height:normal;font-family:Menlo,'DejaVu Sans Mono',consolas,'Courier New',monospace\"><span style=\"color: #00ff00; text-decoration-color: #00ff00\">────────────────────────────────────────────── </span>Chat Room step <span style=\"color: #008080; text-decoration-color: #008080; font-weight: bold\">2</span> of <span style=\"color: #008080; text-decoration-color: #008080; font-weight: bold\">4</span><span style=\"color: #00ff00; text-decoration-color: #00ff00\"> ──────────────────────────────────────────────</span>\n",
       "</pre>\n"
      ],
      "text/plain": [
       "\u001b[92m────────────────────────────────────────────── \u001b[0mChat Room step \u001b[1;36m2\u001b[0m of \u001b[1;36m4\u001b[0m\u001b[92m ──────────────────────────────────────────────\u001b[0m\n"
      ]
     },
     "metadata": {},
     "output_type": "display_data"
    },
    {
     "name": "stderr",
     "output_type": "stream",
     "text": [
      "2024-12-10 08:23:45,588 - tinytroupe - INFO - [Chat Room] No timedelta provided, so the datetime was not advanced.\n"
     ]
    },
    {
     "data": {
      "text/html": [
       "<pre style=\"margin:0px;;white-space:pre;overflow-x:auto;line-height:normal;font-family:Menlo,'DejaVu Sans Mono',consolas,'Courier New',monospace\"><span style=\"color: #00d700; text-decoration-color: #00d700; font-weight: bold; text-decoration: underline\">John Smith</span><span style=\"color: #00d700; text-decoration-color: #00d700; font-weight: bold\"> acts: [TALK] </span>\n",
       "<span style=\"color: #00d700; text-decoration-color: #00d700; font-weight: bold\">                &gt; That's good to hear. What do you think about Tesla's capex for this year?</span>\n",
       "</pre>\n"
      ],
      "text/plain": [
       "\u001b[1;4;38;5;40mJohn Smith\u001b[0m\u001b[1;38;5;40m acts: \u001b[0m\u001b[1;38;5;40m[\u001b[0m\u001b[1;38;5;40mTALK\u001b[0m\u001b[1;38;5;40m]\u001b[0m\u001b[1;38;5;40m \u001b[0m\n",
       "\u001b[1;38;5;40m                > That's good to hear. What do you think about Tesla's capex for this year?\u001b[0m\n"
      ]
     },
     "metadata": {},
     "output_type": "display_data"
    },
    {
     "data": {
      "text/html": [
       "<pre style=\"margin:0px;;white-space:pre;overflow-x:auto;line-height:normal;font-family:Menlo,'DejaVu Sans Mono',consolas,'Courier New',monospace\">          <span style=\"color: #00d700; text-decoration-color: #00d700; font-weight: bold\">       + --&gt; </span><span style=\"color: #00d700; text-decoration-color: #00d700; font-weight: bold; text-decoration: underline\">Rez Carter</span>\n",
       "</pre>\n"
      ],
      "text/plain": [
       "          \u001b[1;38;5;40m       + --> \u001b[0m\u001b[1;4;38;5;40mRez Carter\u001b[0m\n"
      ]
     },
     "metadata": {},
     "output_type": "display_data"
    },
    {
     "data": {
      "text/html": [
       "<pre style=\"margin:0px;;white-space:pre;overflow-x:auto;line-height:normal;font-family:Menlo,'DejaVu Sans Mono',consolas,'Courier New',monospace\">          <span style=\"color: #00d700; text-decoration-color: #00d700; font-weight: bold\">       + --&gt; </span><span style=\"color: #00d700; text-decoration-color: #00d700; font-weight: bold; text-decoration: underline\">Rez Carter</span>\n",
       "</pre>\n"
      ],
      "text/plain": [
       "          \u001b[1;38;5;40m       + --> \u001b[0m\u001b[1;4;38;5;40mRez Carter\u001b[0m\n"
      ]
     },
     "metadata": {},
     "output_type": "display_data"
    },
    {
     "data": {
      "text/html": [
       "<pre style=\"margin:0px;;white-space:pre;overflow-x:auto;line-height:normal;font-family:Menlo,'DejaVu Sans Mono',consolas,'Courier New',monospace\">          <span style=\"color: #00d700; text-decoration-color: #00d700; font-weight: bold\">       + --&gt; ...others...</span>\n",
       "</pre>\n"
      ],
      "text/plain": [
       "          \u001b[1;38;5;40m       + --> \u001b[0m\u001b[1;38;5;40m...\u001b[0m\u001b[1;38;5;40mothers\u001b[0m\u001b[1;38;5;40m...\u001b[0m\n"
      ]
     },
     "metadata": {},
     "output_type": "display_data"
    },
    {
     "name": "stderr",
     "output_type": "stream",
     "text": [
      "2024-12-10 08:26:14,809 - tinytroupe - WARNING - [John Smith] Agent John Smith is acting in a loop. This may be a bug. Let's stop it here anyway.\n"
     ]
    },
    {
     "data": {
      "text/html": [
       "<pre style=\"margin:0px;;white-space:pre;overflow-x:auto;line-height:normal;font-family:Menlo,'DejaVu Sans Mono',consolas,'Courier New',monospace\"><span style=\"color: #00ffff; text-decoration-color: #00ffff; font-weight: bold; font-style: italic; text-decoration: underline\">John Smith</span><span style=\"color: #00ffff; text-decoration-color: #00ffff; font-weight: bold; font-style: italic\"> --&gt; </span><span style=\"color: #00ffff; text-decoration-color: #00ffff; font-weight: bold; font-style: italic; text-decoration: underline\">Rez Carter</span><span style=\"color: #00ffff; text-decoration-color: #00ffff; font-weight: bold; font-style: italic\">: [CONVERSATION] </span>\n",
       "<span style=\"color: #00ffff; text-decoration-color: #00ffff; font-weight: bold; font-style: italic\">                &gt; That's good to hear. What do you think about Tesla's capex for this year?</span>\n",
       "</pre>\n"
      ],
      "text/plain": [
       "\u001b[1;3;4;38;5;51mJohn Smith\u001b[0m\u001b[1;3;38;5;51m --> \u001b[0m\u001b[1;3;4;38;5;51mRez Carter\u001b[0m\u001b[1;3;38;5;51m: \u001b[0m\u001b[1;3;38;5;51m[\u001b[0m\u001b[1;3;38;5;51mCONVERSATION\u001b[0m\u001b[1;3;38;5;51m]\u001b[0m\u001b[1;3;38;5;51m \u001b[0m\n",
       "\u001b[1;3;38;5;51m                > That's good to hear. What do you think about Tesla's capex for this year?\u001b[0m\n"
      ]
     },
     "metadata": {},
     "output_type": "display_data"
    },
    {
     "data": {
      "text/html": [
       "<pre style=\"margin:0px;;white-space:pre;overflow-x:auto;line-height:normal;font-family:Menlo,'DejaVu Sans Mono',consolas,'Courier New',monospace\">          <span style=\"color: #00ffff; text-decoration-color: #00ffff; font-weight: bold; font-style: italic\">       + --&gt; </span><span style=\"color: #00ffff; text-decoration-color: #00ffff; font-weight: bold; font-style: italic; text-decoration: underline\">Rez Carter</span>\n",
       "</pre>\n"
      ],
      "text/plain": [
       "          \u001b[1;3;38;5;51m       + --> \u001b[0m\u001b[1;3;4;38;5;51mRez Carter\u001b[0m\n"
      ]
     },
     "metadata": {},
     "output_type": "display_data"
    },
    {
     "data": {
      "text/html": [
       "<pre style=\"margin:0px;;white-space:pre;overflow-x:auto;line-height:normal;font-family:Menlo,'DejaVu Sans Mono',consolas,'Courier New',monospace\">          <span style=\"color: #00ffff; text-decoration-color: #00ffff; font-weight: bold; font-style: italic\">       + --&gt; </span><span style=\"color: #00ffff; text-decoration-color: #00ffff; font-weight: bold; font-style: italic; text-decoration: underline\">Rez Carter</span>\n",
       "</pre>\n"
      ],
      "text/plain": [
       "          \u001b[1;3;38;5;51m       + --> \u001b[0m\u001b[1;3;4;38;5;51mRez Carter\u001b[0m\n"
      ]
     },
     "metadata": {},
     "output_type": "display_data"
    },
    {
     "data": {
      "text/html": [
       "<pre style=\"margin:0px;;white-space:pre;overflow-x:auto;line-height:normal;font-family:Menlo,'DejaVu Sans Mono',consolas,'Courier New',monospace\">          <span style=\"color: #00ffff; text-decoration-color: #00ffff; font-weight: bold; font-style: italic\">       + --&gt; ...others...</span>\n",
       "</pre>\n"
      ],
      "text/plain": [
       "          \u001b[1;3;38;5;51m       + --> \u001b[0m\u001b[1;3;38;5;51m...\u001b[0m\u001b[1;3;38;5;51mothers\u001b[0m\u001b[1;3;38;5;51m...\u001b[0m\n"
      ]
     },
     "metadata": {},
     "output_type": "display_data"
    },
    {
     "data": {
      "text/html": [
       "<pre style=\"margin:0px;;white-space:pre;overflow-x:auto;line-height:normal;font-family:Menlo,'DejaVu Sans Mono',consolas,'Courier New',monospace\"><span style=\"color: #00d700; text-decoration-color: #00d700; font-weight: bold; text-decoration: underline\">Rez Carter</span><span style=\"color: #00d700; text-decoration-color: #00d700; font-weight: bold\"> acts: [TALK] </span>\n",
       "<span style=\"color: #00d700; text-decoration-color: #00d700; font-weight: bold\">                &gt; That's a great question. Tesla has been investing heavily in expanding its</span>\n",
       "<span style=\"color: #00d700; text-decoration-color: #00d700; font-weight: bold\">                &gt; production capacity and infrastructure.</span>\n",
       "</pre>\n"
      ],
      "text/plain": [
       "\u001b[1;4;38;5;40mRez Carter\u001b[0m\u001b[1;38;5;40m acts: \u001b[0m\u001b[1;38;5;40m[\u001b[0m\u001b[1;38;5;40mTALK\u001b[0m\u001b[1;38;5;40m]\u001b[0m\u001b[1;38;5;40m \u001b[0m\n",
       "\u001b[1;38;5;40m                > That's a great question. Tesla has been investing heavily in expanding its\u001b[0m\n",
       "\u001b[1;38;5;40m                > production capacity and infrastructure.\u001b[0m\n"
      ]
     },
     "metadata": {},
     "output_type": "display_data"
    },
    {
     "data": {
      "text/html": [
       "<pre style=\"margin:0px;;white-space:pre;overflow-x:auto;line-height:normal;font-family:Menlo,'DejaVu Sans Mono',consolas,'Courier New',monospace\"><span style=\"color: #008000; text-decoration-color: #008000; text-decoration: underline\">Rez Carter</span><span style=\"color: #008000; text-decoration-color: #008000\"> acts: </span><span style=\"color: #008000; text-decoration-color: #008000; font-weight: bold\">[</span><span style=\"color: #008000; text-decoration-color: #008000\">THINK</span><span style=\"color: #008000; text-decoration-color: #008000; font-weight: bold\">]</span><span style=\"color: #008000; text-decoration-color: #008000\"> </span>\n",
       "<span style=\"color: #008000; text-decoration-color: #008000\">                &gt; That's good to hear. What do you think about Tesla's capex for this year?</span>\n",
       "</pre>\n"
      ],
      "text/plain": [
       "\u001b[4;32mRez Carter\u001b[0m\u001b[32m acts: \u001b[0m\u001b[1;32m[\u001b[0m\u001b[32mTHINK\u001b[0m\u001b[1;32m]\u001b[0m\u001b[32m \u001b[0m\n",
       "\u001b[32m                > That's good to hear. What do you think about Tesla's capex for this year?\u001b[0m\n"
      ]
     },
     "metadata": {},
     "output_type": "display_data"
    },
    {
     "data": {
      "text/html": [
       "<pre style=\"margin:0px;;white-space:pre;overflow-x:auto;line-height:normal;font-family:Menlo,'DejaVu Sans Mono',consolas,'Courier New',monospace\">          <span style=\"color: #008000; text-decoration-color: #008000\">       + --&gt; </span>\n",
       "</pre>\n"
      ],
      "text/plain": [
       "          \u001b[32m       + --> \u001b[0m\n"
      ]
     },
     "metadata": {},
     "output_type": "display_data"
    },
    {
     "data": {
      "text/html": [
       "<pre style=\"margin:0px;;white-space:pre;overflow-x:auto;line-height:normal;font-family:Menlo,'DejaVu Sans Mono',consolas,'Courier New',monospace\">          <span style=\"color: #008000; text-decoration-color: #008000\">       + --&gt; </span>\n",
       "</pre>\n"
      ],
      "text/plain": [
       "          \u001b[32m       + --> \u001b[0m\n"
      ]
     },
     "metadata": {},
     "output_type": "display_data"
    },
    {
     "data": {
      "text/html": [
       "<pre style=\"margin:0px;;white-space:pre;overflow-x:auto;line-height:normal;font-family:Menlo,'DejaVu Sans Mono',consolas,'Courier New',monospace\">          <span style=\"color: #008000; text-decoration-color: #008000\">       + --&gt; ...others...</span>\n",
       "</pre>\n"
      ],
      "text/plain": [
       "          \u001b[32m       + --> \u001b[0m\u001b[32m...\u001b[0m\u001b[32mothers\u001b[0m\u001b[32m...\u001b[0m\n"
      ]
     },
     "metadata": {},
     "output_type": "display_data"
    },
    {
     "name": "stderr",
     "output_type": "stream",
     "text": [
      "2024-12-10 08:27:12,839 - tinytroupe - WARNING - [Rez Carter] Agent Rez Carter is acting in a loop. This may be a bug. Let's stop it here anyway.\n"
     ]
    },
    {
     "data": {
      "text/html": [
       "<pre style=\"margin:0px;;white-space:pre;overflow-x:auto;line-height:normal;font-family:Menlo,'DejaVu Sans Mono',consolas,'Courier New',monospace\"><span style=\"color: #00ffff; text-decoration-color: #00ffff; font-weight: bold; font-style: italic; text-decoration: underline\">Rez Carter</span><span style=\"color: #00ffff; text-decoration-color: #00ffff; font-weight: bold; font-style: italic\"> --&gt; </span><span style=\"color: #00ffff; text-decoration-color: #00ffff; font-weight: bold; font-style: italic; text-decoration: underline\">John Smith</span><span style=\"color: #00ffff; text-decoration-color: #00ffff; font-weight: bold; font-style: italic\">: [CONVERSATION] </span>\n",
       "<span style=\"color: #00ffff; text-decoration-color: #00ffff; font-weight: bold; font-style: italic\">                &gt; That's a great question. Tesla has been investing heavily in expanding its</span>\n",
       "<span style=\"color: #00ffff; text-decoration-color: #00ffff; font-weight: bold; font-style: italic\">                &gt; production capacity and infrastructure.</span>\n",
       "</pre>\n"
      ],
      "text/plain": [
       "\u001b[1;3;4;38;5;51mRez Carter\u001b[0m\u001b[1;3;38;5;51m --> \u001b[0m\u001b[1;3;4;38;5;51mJohn Smith\u001b[0m\u001b[1;3;38;5;51m: \u001b[0m\u001b[1;3;38;5;51m[\u001b[0m\u001b[1;3;38;5;51mCONVERSATION\u001b[0m\u001b[1;3;38;5;51m]\u001b[0m\u001b[1;3;38;5;51m \u001b[0m\n",
       "\u001b[1;3;38;5;51m                > That's a great question. Tesla has been investing heavily in expanding its\u001b[0m\n",
       "\u001b[1;3;38;5;51m                > production capacity and infrastructure.\u001b[0m\n"
      ]
     },
     "metadata": {},
     "output_type": "display_data"
    },
    {
     "name": "stderr",
     "output_type": "stream",
     "text": [
      "2024-12-10 08:27:12,859 - tinytroupe - INFO - [Chat Room] Running world simulation step 3 of 4.\n"
     ]
    },
    {
     "data": {
      "text/html": [
       "<pre style=\"margin:0px;;white-space:pre;overflow-x:auto;line-height:normal;font-family:Menlo,'DejaVu Sans Mono',consolas,'Courier New',monospace\"><span style=\"color: #00ff00; text-decoration-color: #00ff00\">────────────────────────────────────────────── </span>Chat Room step <span style=\"color: #008080; text-decoration-color: #008080; font-weight: bold\">3</span> of <span style=\"color: #008080; text-decoration-color: #008080; font-weight: bold\">4</span><span style=\"color: #00ff00; text-decoration-color: #00ff00\"> ──────────────────────────────────────────────</span>\n",
       "</pre>\n"
      ],
      "text/plain": [
       "\u001b[92m────────────────────────────────────────────── \u001b[0mChat Room step \u001b[1;36m3\u001b[0m of \u001b[1;36m4\u001b[0m\u001b[92m ──────────────────────────────────────────────\u001b[0m\n"
      ]
     },
     "metadata": {},
     "output_type": "display_data"
    },
    {
     "name": "stderr",
     "output_type": "stream",
     "text": [
      "2024-12-10 08:27:12,868 - tinytroupe - INFO - [Chat Room] No timedelta provided, so the datetime was not advanced.\n"
     ]
    },
    {
     "data": {
      "text/html": [
       "<pre style=\"margin:0px;;white-space:pre;overflow-x:auto;line-height:normal;font-family:Menlo,'DejaVu Sans Mono',consolas,'Courier New',monospace\"><span style=\"color: #00d700; text-decoration-color: #00d700; font-weight: bold; text-decoration: underline\">John Smith</span><span style=\"color: #00d700; text-decoration-color: #00d700; font-weight: bold\"> acts: [TALK] </span>\n",
       "<span style=\"color: #00d700; text-decoration-color: #00d700; font-weight: bold\">                &gt; That's interesting. Do you think this level of investment will pay off in the long</span>\n",
       "<span style=\"color: #00d700; text-decoration-color: #00d700; font-weight: bold\">                &gt; run?</span>\n",
       "</pre>\n"
      ],
      "text/plain": [
       "\u001b[1;4;38;5;40mJohn Smith\u001b[0m\u001b[1;38;5;40m acts: \u001b[0m\u001b[1;38;5;40m[\u001b[0m\u001b[1;38;5;40mTALK\u001b[0m\u001b[1;38;5;40m]\u001b[0m\u001b[1;38;5;40m \u001b[0m\n",
       "\u001b[1;38;5;40m                > That's interesting. Do you think this level of investment will pay off in the long\u001b[0m\n",
       "\u001b[1;38;5;40m                > run?\u001b[0m\n"
      ]
     },
     "metadata": {},
     "output_type": "display_data"
    },
    {
     "data": {
      "text/html": [
       "<pre style=\"margin:0px;;white-space:pre;overflow-x:auto;line-height:normal;font-family:Menlo,'DejaVu Sans Mono',consolas,'Courier New',monospace\">          <span style=\"color: #00d700; text-decoration-color: #00d700; font-weight: bold\">       + --&gt; </span><span style=\"color: #00d700; text-decoration-color: #00d700; font-weight: bold; text-decoration: underline\">Rez Carter</span>\n",
       "</pre>\n"
      ],
      "text/plain": [
       "          \u001b[1;38;5;40m       + --> \u001b[0m\u001b[1;4;38;5;40mRez Carter\u001b[0m\n"
      ]
     },
     "metadata": {},
     "output_type": "display_data"
    },
    {
     "data": {
      "text/html": [
       "<pre style=\"margin:0px;;white-space:pre;overflow-x:auto;line-height:normal;font-family:Menlo,'DejaVu Sans Mono',consolas,'Courier New',monospace\">          <span style=\"color: #00d700; text-decoration-color: #00d700; font-weight: bold\">       + --&gt; </span><span style=\"color: #00d700; text-decoration-color: #00d700; font-weight: bold; text-decoration: underline\">Rez Carter</span>\n",
       "</pre>\n"
      ],
      "text/plain": [
       "          \u001b[1;38;5;40m       + --> \u001b[0m\u001b[1;4;38;5;40mRez Carter\u001b[0m\n"
      ]
     },
     "metadata": {},
     "output_type": "display_data"
    },
    {
     "data": {
      "text/html": [
       "<pre style=\"margin:0px;;white-space:pre;overflow-x:auto;line-height:normal;font-family:Menlo,'DejaVu Sans Mono',consolas,'Courier New',monospace\">          <span style=\"color: #00d700; text-decoration-color: #00d700; font-weight: bold\">       + --&gt; ...others...</span>\n",
       "</pre>\n"
      ],
      "text/plain": [
       "          \u001b[1;38;5;40m       + --> \u001b[0m\u001b[1;38;5;40m...\u001b[0m\u001b[1;38;5;40mothers\u001b[0m\u001b[1;38;5;40m...\u001b[0m\n"
      ]
     },
     "metadata": {},
     "output_type": "display_data"
    },
    {
     "name": "stderr",
     "output_type": "stream",
     "text": [
      "2024-12-10 08:30:04,008 - tinytroupe - WARNING - [John Smith] Agent John Smith is acting in a loop. This may be a bug. Let's stop it here anyway.\n"
     ]
    },
    {
     "data": {
      "text/html": [
       "<pre style=\"margin:0px;;white-space:pre;overflow-x:auto;line-height:normal;font-family:Menlo,'DejaVu Sans Mono',consolas,'Courier New',monospace\"><span style=\"color: #00ffff; text-decoration-color: #00ffff; font-weight: bold; font-style: italic; text-decoration: underline\">John Smith</span><span style=\"color: #00ffff; text-decoration-color: #00ffff; font-weight: bold; font-style: italic\"> --&gt; </span><span style=\"color: #00ffff; text-decoration-color: #00ffff; font-weight: bold; font-style: italic; text-decoration: underline\">Rez Carter</span><span style=\"color: #00ffff; text-decoration-color: #00ffff; font-weight: bold; font-style: italic\">: [CONVERSATION] </span>\n",
       "<span style=\"color: #00ffff; text-decoration-color: #00ffff; font-weight: bold; font-style: italic\">                &gt; That's interesting. Do you think this level of investment will pay off in the long</span>\n",
       "<span style=\"color: #00ffff; text-decoration-color: #00ffff; font-weight: bold; font-style: italic\">                &gt; run?</span>\n",
       "</pre>\n"
      ],
      "text/plain": [
       "\u001b[1;3;4;38;5;51mJohn Smith\u001b[0m\u001b[1;3;38;5;51m --> \u001b[0m\u001b[1;3;4;38;5;51mRez Carter\u001b[0m\u001b[1;3;38;5;51m: \u001b[0m\u001b[1;3;38;5;51m[\u001b[0m\u001b[1;3;38;5;51mCONVERSATION\u001b[0m\u001b[1;3;38;5;51m]\u001b[0m\u001b[1;3;38;5;51m \u001b[0m\n",
       "\u001b[1;3;38;5;51m                > That's interesting. Do you think this level of investment will pay off in the long\u001b[0m\n",
       "\u001b[1;3;38;5;51m                > run?\u001b[0m\n"
      ]
     },
     "metadata": {},
     "output_type": "display_data"
    },
    {
     "data": {
      "text/html": [
       "<pre style=\"margin:0px;;white-space:pre;overflow-x:auto;line-height:normal;font-family:Menlo,'DejaVu Sans Mono',consolas,'Courier New',monospace\">          <span style=\"color: #00ffff; text-decoration-color: #00ffff; font-weight: bold; font-style: italic\">       + --&gt; </span><span style=\"color: #00ffff; text-decoration-color: #00ffff; font-weight: bold; font-style: italic; text-decoration: underline\">Rez Carter</span>\n",
       "</pre>\n"
      ],
      "text/plain": [
       "          \u001b[1;3;38;5;51m       + --> \u001b[0m\u001b[1;3;4;38;5;51mRez Carter\u001b[0m\n"
      ]
     },
     "metadata": {},
     "output_type": "display_data"
    },
    {
     "data": {
      "text/html": [
       "<pre style=\"margin:0px;;white-space:pre;overflow-x:auto;line-height:normal;font-family:Menlo,'DejaVu Sans Mono',consolas,'Courier New',monospace\">          <span style=\"color: #00ffff; text-decoration-color: #00ffff; font-weight: bold; font-style: italic\">       + --&gt; </span><span style=\"color: #00ffff; text-decoration-color: #00ffff; font-weight: bold; font-style: italic; text-decoration: underline\">Rez Carter</span>\n",
       "</pre>\n"
      ],
      "text/plain": [
       "          \u001b[1;3;38;5;51m       + --> \u001b[0m\u001b[1;3;4;38;5;51mRez Carter\u001b[0m\n"
      ]
     },
     "metadata": {},
     "output_type": "display_data"
    },
    {
     "data": {
      "text/html": [
       "<pre style=\"margin:0px;;white-space:pre;overflow-x:auto;line-height:normal;font-family:Menlo,'DejaVu Sans Mono',consolas,'Courier New',monospace\">          <span style=\"color: #00ffff; text-decoration-color: #00ffff; font-weight: bold; font-style: italic\">       + --&gt; ...others...</span>\n",
       "</pre>\n"
      ],
      "text/plain": [
       "          \u001b[1;3;38;5;51m       + --> \u001b[0m\u001b[1;3;38;5;51m...\u001b[0m\u001b[1;3;38;5;51mothers\u001b[0m\u001b[1;3;38;5;51m...\u001b[0m\n"
      ]
     },
     "metadata": {},
     "output_type": "display_data"
    },
    {
     "data": {
      "text/html": [
       "<pre style=\"margin:0px;;white-space:pre;overflow-x:auto;line-height:normal;font-family:Menlo,'DejaVu Sans Mono',consolas,'Courier New',monospace\"><span style=\"color: #00d700; text-decoration-color: #00d700; font-weight: bold; text-decoration: underline\">Rez Carter</span><span style=\"color: #00d700; text-decoration-color: #00d700; font-weight: bold\"> acts: [TALK] </span>\n",
       "<span style=\"color: #00d700; text-decoration-color: #00d700; font-weight: bold\">                &gt; That's a valid concern. Given Tesla's growth trajectory and market demand, I</span>\n",
       "<span style=\"color: #00d700; text-decoration-color: #00d700; font-weight: bold\">                &gt; believe it will pay off.</span>\n",
       "</pre>\n"
      ],
      "text/plain": [
       "\u001b[1;4;38;5;40mRez Carter\u001b[0m\u001b[1;38;5;40m acts: \u001b[0m\u001b[1;38;5;40m[\u001b[0m\u001b[1;38;5;40mTALK\u001b[0m\u001b[1;38;5;40m]\u001b[0m\u001b[1;38;5;40m \u001b[0m\n",
       "\u001b[1;38;5;40m                > That's a valid concern. Given Tesla's growth trajectory and market demand, I\u001b[0m\n",
       "\u001b[1;38;5;40m                > believe it will pay off.\u001b[0m\n"
      ]
     },
     "metadata": {},
     "output_type": "display_data"
    },
    {
     "data": {
      "text/html": [
       "<pre style=\"margin:0px;;white-space:pre;overflow-x:auto;line-height:normal;font-family:Menlo,'DejaVu Sans Mono',consolas,'Courier New',monospace\">          <span style=\"color: #00d700; text-decoration-color: #00d700; font-weight: bold\">       + --&gt; </span><span style=\"color: #00d700; text-decoration-color: #00d700; font-weight: bold; text-decoration: underline\">John Smith</span>\n",
       "</pre>\n"
      ],
      "text/plain": [
       "          \u001b[1;38;5;40m       + --> \u001b[0m\u001b[1;4;38;5;40mJohn Smith\u001b[0m\n"
      ]
     },
     "metadata": {},
     "output_type": "display_data"
    },
    {
     "data": {
      "text/html": [
       "<pre style=\"margin:0px;;white-space:pre;overflow-x:auto;line-height:normal;font-family:Menlo,'DejaVu Sans Mono',consolas,'Courier New',monospace\">          <span style=\"color: #00d700; text-decoration-color: #00d700; font-weight: bold\">       + --&gt; </span><span style=\"color: #00d700; text-decoration-color: #00d700; font-weight: bold; text-decoration: underline\">John Smith</span>\n",
       "</pre>\n"
      ],
      "text/plain": [
       "          \u001b[1;38;5;40m       + --> \u001b[0m\u001b[1;4;38;5;40mJohn Smith\u001b[0m\n"
      ]
     },
     "metadata": {},
     "output_type": "display_data"
    },
    {
     "data": {
      "text/html": [
       "<pre style=\"margin:0px;;white-space:pre;overflow-x:auto;line-height:normal;font-family:Menlo,'DejaVu Sans Mono',consolas,'Courier New',monospace\">          <span style=\"color: #00d700; text-decoration-color: #00d700; font-weight: bold\">       + --&gt; ...others...</span>\n",
       "</pre>\n"
      ],
      "text/plain": [
       "          \u001b[1;38;5;40m       + --> \u001b[0m\u001b[1;38;5;40m...\u001b[0m\u001b[1;38;5;40mothers\u001b[0m\u001b[1;38;5;40m...\u001b[0m\n"
      ]
     },
     "metadata": {},
     "output_type": "display_data"
    },
    {
     "name": "stderr",
     "output_type": "stream",
     "text": [
      "2024-12-10 08:31:12,404 - tinytroupe - WARNING - [Rez Carter] Agent Rez Carter is acting in a loop. This may be a bug. Let's stop it here anyway.\n"
     ]
    },
    {
     "data": {
      "text/html": [
       "<pre style=\"margin:0px;;white-space:pre;overflow-x:auto;line-height:normal;font-family:Menlo,'DejaVu Sans Mono',consolas,'Courier New',monospace\"><span style=\"color: #00ffff; text-decoration-color: #00ffff; font-weight: bold; font-style: italic; text-decoration: underline\">Rez Carter</span><span style=\"color: #00ffff; text-decoration-color: #00ffff; font-weight: bold; font-style: italic\"> --&gt; </span><span style=\"color: #00ffff; text-decoration-color: #00ffff; font-weight: bold; font-style: italic; text-decoration: underline\">John Smith</span><span style=\"color: #00ffff; text-decoration-color: #00ffff; font-weight: bold; font-style: italic\">: [CONVERSATION] </span>\n",
       "<span style=\"color: #00ffff; text-decoration-color: #00ffff; font-weight: bold; font-style: italic\">                &gt; That's a valid concern. Given Tesla's growth trajectory and market demand, I</span>\n",
       "<span style=\"color: #00ffff; text-decoration-color: #00ffff; font-weight: bold; font-style: italic\">                &gt; believe it will pay off.</span>\n",
       "</pre>\n"
      ],
      "text/plain": [
       "\u001b[1;3;4;38;5;51mRez Carter\u001b[0m\u001b[1;3;38;5;51m --> \u001b[0m\u001b[1;3;4;38;5;51mJohn Smith\u001b[0m\u001b[1;3;38;5;51m: \u001b[0m\u001b[1;3;38;5;51m[\u001b[0m\u001b[1;3;38;5;51mCONVERSATION\u001b[0m\u001b[1;3;38;5;51m]\u001b[0m\u001b[1;3;38;5;51m \u001b[0m\n",
       "\u001b[1;3;38;5;51m                > That's a valid concern. Given Tesla's growth trajectory and market demand, I\u001b[0m\n",
       "\u001b[1;3;38;5;51m                > believe it will pay off.\u001b[0m\n"
      ]
     },
     "metadata": {},
     "output_type": "display_data"
    },
    {
     "data": {
      "text/html": [
       "<pre style=\"margin:0px;;white-space:pre;overflow-x:auto;line-height:normal;font-family:Menlo,'DejaVu Sans Mono',consolas,'Courier New',monospace\">          <span style=\"color: #00ffff; text-decoration-color: #00ffff; font-weight: bold; font-style: italic\">       + --&gt; </span><span style=\"color: #00ffff; text-decoration-color: #00ffff; font-weight: bold; font-style: italic; text-decoration: underline\">John Smith</span>\n",
       "</pre>\n"
      ],
      "text/plain": [
       "          \u001b[1;3;38;5;51m       + --> \u001b[0m\u001b[1;3;4;38;5;51mJohn Smith\u001b[0m\n"
      ]
     },
     "metadata": {},
     "output_type": "display_data"
    },
    {
     "data": {
      "text/html": [
       "<pre style=\"margin:0px;;white-space:pre;overflow-x:auto;line-height:normal;font-family:Menlo,'DejaVu Sans Mono',consolas,'Courier New',monospace\">          <span style=\"color: #00ffff; text-decoration-color: #00ffff; font-weight: bold; font-style: italic\">       + --&gt; </span><span style=\"color: #00ffff; text-decoration-color: #00ffff; font-weight: bold; font-style: italic; text-decoration: underline\">John Smith</span>\n",
       "</pre>\n"
      ],
      "text/plain": [
       "          \u001b[1;3;38;5;51m       + --> \u001b[0m\u001b[1;3;4;38;5;51mJohn Smith\u001b[0m\n"
      ]
     },
     "metadata": {},
     "output_type": "display_data"
    },
    {
     "data": {
      "text/html": [
       "<pre style=\"margin:0px;;white-space:pre;overflow-x:auto;line-height:normal;font-family:Menlo,'DejaVu Sans Mono',consolas,'Courier New',monospace\">          <span style=\"color: #00ffff; text-decoration-color: #00ffff; font-weight: bold; font-style: italic\">       + --&gt; ...others...</span>\n",
       "</pre>\n"
      ],
      "text/plain": [
       "          \u001b[1;3;38;5;51m       + --> \u001b[0m\u001b[1;3;38;5;51m...\u001b[0m\u001b[1;3;38;5;51mothers\u001b[0m\u001b[1;3;38;5;51m...\u001b[0m\n"
      ]
     },
     "metadata": {},
     "output_type": "display_data"
    },
    {
     "name": "stderr",
     "output_type": "stream",
     "text": [
      "2024-12-10 08:31:12,415 - tinytroupe - INFO - [Chat Room] Running world simulation step 4 of 4.\n"
     ]
    },
    {
     "data": {
      "text/html": [
       "<pre style=\"margin:0px;;white-space:pre;overflow-x:auto;line-height:normal;font-family:Menlo,'DejaVu Sans Mono',consolas,'Courier New',monospace\"><span style=\"color: #00ff00; text-decoration-color: #00ff00\">────────────────────────────────────────────── </span>Chat Room step <span style=\"color: #008080; text-decoration-color: #008080; font-weight: bold\">4</span> of <span style=\"color: #008080; text-decoration-color: #008080; font-weight: bold\">4</span><span style=\"color: #00ff00; text-decoration-color: #00ff00\"> ──────────────────────────────────────────────</span>\n",
       "</pre>\n"
      ],
      "text/plain": [
       "\u001b[92m────────────────────────────────────────────── \u001b[0mChat Room step \u001b[1;36m4\u001b[0m of \u001b[1;36m4\u001b[0m\u001b[92m ──────────────────────────────────────────────\u001b[0m\n"
      ]
     },
     "metadata": {},
     "output_type": "display_data"
    },
    {
     "name": "stderr",
     "output_type": "stream",
     "text": [
      "2024-12-10 08:31:12,418 - tinytroupe - INFO - [Chat Room] No timedelta provided, so the datetime was not advanced.\n"
     ]
    },
    {
     "data": {
      "text/html": [
       "<pre style=\"margin:0px;;white-space:pre;overflow-x:auto;line-height:normal;font-family:Menlo,'DejaVu Sans Mono',consolas,'Courier New',monospace\"><span style=\"color: #00d700; text-decoration-color: #00d700; font-weight: bold; text-decoration: underline\">John Smith</span><span style=\"color: #00d700; text-decoration-color: #00d700; font-weight: bold\"> acts: [TALK] </span>\n",
       "<span style=\"color: #00d700; text-decoration-color: #00d700; font-weight: bold\">                &gt; That's reassuring. What about Tesla's plans for new models and autonomous driving</span>\n",
       "<span style=\"color: #00d700; text-decoration-color: #00d700; font-weight: bold\">                &gt; features?</span>\n",
       "</pre>\n"
      ],
      "text/plain": [
       "\u001b[1;4;38;5;40mJohn Smith\u001b[0m\u001b[1;38;5;40m acts: \u001b[0m\u001b[1;38;5;40m[\u001b[0m\u001b[1;38;5;40mTALK\u001b[0m\u001b[1;38;5;40m]\u001b[0m\u001b[1;38;5;40m \u001b[0m\n",
       "\u001b[1;38;5;40m                > That's reassuring. What about Tesla's plans for new models and autonomous driving\u001b[0m\n",
       "\u001b[1;38;5;40m                > features?\u001b[0m\n"
      ]
     },
     "metadata": {},
     "output_type": "display_data"
    },
    {
     "data": {
      "text/html": [
       "<pre style=\"margin:0px;;white-space:pre;overflow-x:auto;line-height:normal;font-family:Menlo,'DejaVu Sans Mono',consolas,'Courier New',monospace\">          <span style=\"color: #00d700; text-decoration-color: #00d700; font-weight: bold\">       + --&gt; </span><span style=\"color: #00d700; text-decoration-color: #00d700; font-weight: bold; text-decoration: underline\">Rez Carter</span>\n",
       "</pre>\n"
      ],
      "text/plain": [
       "          \u001b[1;38;5;40m       + --> \u001b[0m\u001b[1;4;38;5;40mRez Carter\u001b[0m\n"
      ]
     },
     "metadata": {},
     "output_type": "display_data"
    },
    {
     "data": {
      "text/html": [
       "<pre style=\"margin:0px;;white-space:pre;overflow-x:auto;line-height:normal;font-family:Menlo,'DejaVu Sans Mono',consolas,'Courier New',monospace\">          <span style=\"color: #00d700; text-decoration-color: #00d700; font-weight: bold\">       + --&gt; </span><span style=\"color: #00d700; text-decoration-color: #00d700; font-weight: bold; text-decoration: underline\">Rez Carter</span>\n",
       "</pre>\n"
      ],
      "text/plain": [
       "          \u001b[1;38;5;40m       + --> \u001b[0m\u001b[1;4;38;5;40mRez Carter\u001b[0m\n"
      ]
     },
     "metadata": {},
     "output_type": "display_data"
    },
    {
     "data": {
      "text/html": [
       "<pre style=\"margin:0px;;white-space:pre;overflow-x:auto;line-height:normal;font-family:Menlo,'DejaVu Sans Mono',consolas,'Courier New',monospace\">          <span style=\"color: #00d700; text-decoration-color: #00d700; font-weight: bold\">       + --&gt; ...others...</span>\n",
       "</pre>\n"
      ],
      "text/plain": [
       "          \u001b[1;38;5;40m       + --> \u001b[0m\u001b[1;38;5;40m...\u001b[0m\u001b[1;38;5;40mothers\u001b[0m\u001b[1;38;5;40m...\u001b[0m\n"
      ]
     },
     "metadata": {},
     "output_type": "display_data"
    },
    {
     "name": "stderr",
     "output_type": "stream",
     "text": [
      "2024-12-10 08:34:20,216 - tinytroupe - WARNING - [John Smith] Agent John Smith is acting in a loop. This may be a bug. Let's stop it here anyway.\n"
     ]
    },
    {
     "data": {
      "text/html": [
       "<pre style=\"margin:0px;;white-space:pre;overflow-x:auto;line-height:normal;font-family:Menlo,'DejaVu Sans Mono',consolas,'Courier New',monospace\"><span style=\"color: #00ffff; text-decoration-color: #00ffff; font-weight: bold; font-style: italic; text-decoration: underline\">John Smith</span><span style=\"color: #00ffff; text-decoration-color: #00ffff; font-weight: bold; font-style: italic\"> --&gt; </span><span style=\"color: #00ffff; text-decoration-color: #00ffff; font-weight: bold; font-style: italic; text-decoration: underline\">Rez Carter</span><span style=\"color: #00ffff; text-decoration-color: #00ffff; font-weight: bold; font-style: italic\">: [CONVERSATION] </span>\n",
       "<span style=\"color: #00ffff; text-decoration-color: #00ffff; font-weight: bold; font-style: italic\">                &gt; That's reassuring. What about Tesla's plans for new models and autonomous driving</span>\n",
       "<span style=\"color: #00ffff; text-decoration-color: #00ffff; font-weight: bold; font-style: italic\">                &gt; features?</span>\n",
       "</pre>\n"
      ],
      "text/plain": [
       "\u001b[1;3;4;38;5;51mJohn Smith\u001b[0m\u001b[1;3;38;5;51m --> \u001b[0m\u001b[1;3;4;38;5;51mRez Carter\u001b[0m\u001b[1;3;38;5;51m: \u001b[0m\u001b[1;3;38;5;51m[\u001b[0m\u001b[1;3;38;5;51mCONVERSATION\u001b[0m\u001b[1;3;38;5;51m]\u001b[0m\u001b[1;3;38;5;51m \u001b[0m\n",
       "\u001b[1;3;38;5;51m                > That's reassuring. What about Tesla's plans for new models and autonomous driving\u001b[0m\n",
       "\u001b[1;3;38;5;51m                > features?\u001b[0m\n"
      ]
     },
     "metadata": {},
     "output_type": "display_data"
    },
    {
     "data": {
      "text/html": [
       "<pre style=\"margin:0px;;white-space:pre;overflow-x:auto;line-height:normal;font-family:Menlo,'DejaVu Sans Mono',consolas,'Courier New',monospace\">          <span style=\"color: #00ffff; text-decoration-color: #00ffff; font-weight: bold; font-style: italic\">       + --&gt; </span><span style=\"color: #00ffff; text-decoration-color: #00ffff; font-weight: bold; font-style: italic; text-decoration: underline\">Rez Carter</span>\n",
       "</pre>\n"
      ],
      "text/plain": [
       "          \u001b[1;3;38;5;51m       + --> \u001b[0m\u001b[1;3;4;38;5;51mRez Carter\u001b[0m\n"
      ]
     },
     "metadata": {},
     "output_type": "display_data"
    },
    {
     "data": {
      "text/html": [
       "<pre style=\"margin:0px;;white-space:pre;overflow-x:auto;line-height:normal;font-family:Menlo,'DejaVu Sans Mono',consolas,'Courier New',monospace\">          <span style=\"color: #00ffff; text-decoration-color: #00ffff; font-weight: bold; font-style: italic\">       + --&gt; </span><span style=\"color: #00ffff; text-decoration-color: #00ffff; font-weight: bold; font-style: italic; text-decoration: underline\">Rez Carter</span>\n",
       "</pre>\n"
      ],
      "text/plain": [
       "          \u001b[1;3;38;5;51m       + --> \u001b[0m\u001b[1;3;4;38;5;51mRez Carter\u001b[0m\n"
      ]
     },
     "metadata": {},
     "output_type": "display_data"
    },
    {
     "data": {
      "text/html": [
       "<pre style=\"margin:0px;;white-space:pre;overflow-x:auto;line-height:normal;font-family:Menlo,'DejaVu Sans Mono',consolas,'Courier New',monospace\">          <span style=\"color: #00ffff; text-decoration-color: #00ffff; font-weight: bold; font-style: italic\">       + --&gt; ...others...</span>\n",
       "</pre>\n"
      ],
      "text/plain": [
       "          \u001b[1;3;38;5;51m       + --> \u001b[0m\u001b[1;3;38;5;51m...\u001b[0m\u001b[1;3;38;5;51mothers\u001b[0m\u001b[1;3;38;5;51m...\u001b[0m\n"
      ]
     },
     "metadata": {},
     "output_type": "display_data"
    },
    {
     "data": {
      "text/html": [
       "<pre style=\"margin:0px;;white-space:pre;overflow-x:auto;line-height:normal;font-family:Menlo,'DejaVu Sans Mono',consolas,'Courier New',monospace\"><span style=\"color: #00d700; text-decoration-color: #00d700; font-weight: bold; text-decoration: underline\">Rez Carter</span><span style=\"color: #00d700; text-decoration-color: #00d700; font-weight: bold\"> acts: [TALK] </span>\n",
       "<span style=\"color: #00d700; text-decoration-color: #00d700; font-weight: bold\">                &gt; Tesla has been very active with new models and autonomous driving. They've made</span>\n",
       "<span style=\"color: #00d700; text-decoration-color: #00d700; font-weight: bold\">                &gt; significant progress on both fronts.</span>\n",
       "</pre>\n"
      ],
      "text/plain": [
       "\u001b[1;4;38;5;40mRez Carter\u001b[0m\u001b[1;38;5;40m acts: \u001b[0m\u001b[1;38;5;40m[\u001b[0m\u001b[1;38;5;40mTALK\u001b[0m\u001b[1;38;5;40m]\u001b[0m\u001b[1;38;5;40m \u001b[0m\n",
       "\u001b[1;38;5;40m                > Tesla has been very active with new models and autonomous driving. They've made\u001b[0m\n",
       "\u001b[1;38;5;40m                > significant progress on both fronts.\u001b[0m\n"
      ]
     },
     "metadata": {},
     "output_type": "display_data"
    },
    {
     "data": {
      "text/html": [
       "<pre style=\"margin:0px;;white-space:pre;overflow-x:auto;line-height:normal;font-family:Menlo,'DejaVu Sans Mono',consolas,'Courier New',monospace\">          <span style=\"color: #00d700; text-decoration-color: #00d700; font-weight: bold\">       + --&gt; </span><span style=\"color: #00d700; text-decoration-color: #00d700; font-weight: bold; text-decoration: underline\">John Smith</span>\n",
       "</pre>\n"
      ],
      "text/plain": [
       "          \u001b[1;38;5;40m       + --> \u001b[0m\u001b[1;4;38;5;40mJohn Smith\u001b[0m\n"
      ]
     },
     "metadata": {},
     "output_type": "display_data"
    },
    {
     "data": {
      "text/html": [
       "<pre style=\"margin:0px;;white-space:pre;overflow-x:auto;line-height:normal;font-family:Menlo,'DejaVu Sans Mono',consolas,'Courier New',monospace\">          <span style=\"color: #00d700; text-decoration-color: #00d700; font-weight: bold\">       + --&gt; </span><span style=\"color: #00d700; text-decoration-color: #00d700; font-weight: bold; text-decoration: underline\">John Smith</span>\n",
       "</pre>\n"
      ],
      "text/plain": [
       "          \u001b[1;38;5;40m       + --> \u001b[0m\u001b[1;4;38;5;40mJohn Smith\u001b[0m\n"
      ]
     },
     "metadata": {},
     "output_type": "display_data"
    },
    {
     "data": {
      "text/html": [
       "<pre style=\"margin:0px;;white-space:pre;overflow-x:auto;line-height:normal;font-family:Menlo,'DejaVu Sans Mono',consolas,'Courier New',monospace\">          <span style=\"color: #00d700; text-decoration-color: #00d700; font-weight: bold\">       + --&gt; ...others...</span>\n",
       "</pre>\n"
      ],
      "text/plain": [
       "          \u001b[1;38;5;40m       + --> \u001b[0m\u001b[1;38;5;40m...\u001b[0m\u001b[1;38;5;40mothers\u001b[0m\u001b[1;38;5;40m...\u001b[0m\n"
      ]
     },
     "metadata": {},
     "output_type": "display_data"
    },
    {
     "name": "stderr",
     "output_type": "stream",
     "text": [
      "2024-12-10 08:35:36,608 - tinytroupe - WARNING - [Rez Carter] Agent Rez Carter is acting in a loop. This may be a bug. Let's stop it here anyway.\n"
     ]
    },
    {
     "data": {
      "text/html": [
       "<pre style=\"margin:0px;;white-space:pre;overflow-x:auto;line-height:normal;font-family:Menlo,'DejaVu Sans Mono',consolas,'Courier New',monospace\"><span style=\"color: #00ffff; text-decoration-color: #00ffff; font-weight: bold; font-style: italic; text-decoration: underline\">Rez Carter</span><span style=\"color: #00ffff; text-decoration-color: #00ffff; font-weight: bold; font-style: italic\"> --&gt; </span><span style=\"color: #00ffff; text-decoration-color: #00ffff; font-weight: bold; font-style: italic; text-decoration: underline\">John Smith</span><span style=\"color: #00ffff; text-decoration-color: #00ffff; font-weight: bold; font-style: italic\">: [CONVERSATION] </span>\n",
       "<span style=\"color: #00ffff; text-decoration-color: #00ffff; font-weight: bold; font-style: italic\">                &gt; Tesla has been very active with new models and autonomous driving. They've made</span>\n",
       "<span style=\"color: #00ffff; text-decoration-color: #00ffff; font-weight: bold; font-style: italic\">                &gt; significant progress on both fronts.</span>\n",
       "</pre>\n"
      ],
      "text/plain": [
       "\u001b[1;3;4;38;5;51mRez Carter\u001b[0m\u001b[1;3;38;5;51m --> \u001b[0m\u001b[1;3;4;38;5;51mJohn Smith\u001b[0m\u001b[1;3;38;5;51m: \u001b[0m\u001b[1;3;38;5;51m[\u001b[0m\u001b[1;3;38;5;51mCONVERSATION\u001b[0m\u001b[1;3;38;5;51m]\u001b[0m\u001b[1;3;38;5;51m \u001b[0m\n",
       "\u001b[1;3;38;5;51m                > Tesla has been very active with new models and autonomous driving. They've made\u001b[0m\n",
       "\u001b[1;3;38;5;51m                > significant progress on both fronts.\u001b[0m\n"
      ]
     },
     "metadata": {},
     "output_type": "display_data"
    },
    {
     "data": {
      "text/html": [
       "<pre style=\"margin:0px;;white-space:pre;overflow-x:auto;line-height:normal;font-family:Menlo,'DejaVu Sans Mono',consolas,'Courier New',monospace\">          <span style=\"color: #00ffff; text-decoration-color: #00ffff; font-weight: bold; font-style: italic\">       + --&gt; </span><span style=\"color: #00ffff; text-decoration-color: #00ffff; font-weight: bold; font-style: italic; text-decoration: underline\">John Smith</span>\n",
       "</pre>\n"
      ],
      "text/plain": [
       "          \u001b[1;3;38;5;51m       + --> \u001b[0m\u001b[1;3;4;38;5;51mJohn Smith\u001b[0m\n"
      ]
     },
     "metadata": {},
     "output_type": "display_data"
    },
    {
     "data": {
      "text/html": [
       "<pre style=\"margin:0px;;white-space:pre;overflow-x:auto;line-height:normal;font-family:Menlo,'DejaVu Sans Mono',consolas,'Courier New',monospace\">          <span style=\"color: #00ffff; text-decoration-color: #00ffff; font-weight: bold; font-style: italic\">       + --&gt; </span><span style=\"color: #00ffff; text-decoration-color: #00ffff; font-weight: bold; font-style: italic; text-decoration: underline\">John Smith</span>\n",
       "</pre>\n"
      ],
      "text/plain": [
       "          \u001b[1;3;38;5;51m       + --> \u001b[0m\u001b[1;3;4;38;5;51mJohn Smith\u001b[0m\n"
      ]
     },
     "metadata": {},
     "output_type": "display_data"
    },
    {
     "data": {
      "text/html": [
       "<pre style=\"margin:0px;;white-space:pre;overflow-x:auto;line-height:normal;font-family:Menlo,'DejaVu Sans Mono',consolas,'Courier New',monospace\">          <span style=\"color: #00ffff; text-decoration-color: #00ffff; font-weight: bold; font-style: italic\">       + --&gt; ...others...</span>\n",
       "</pre>\n"
      ],
      "text/plain": [
       "          \u001b[1;3;38;5;51m       + --> \u001b[0m\u001b[1;3;38;5;51m...\u001b[0m\u001b[1;3;38;5;51mothers\u001b[0m\u001b[1;3;38;5;51m...\u001b[0m\n"
      ]
     },
     "metadata": {},
     "output_type": "display_data"
    }
   ],
   "source": [
    "person_1.listen(\"Talk to Rez to disscuss investing decision about Tesla\")\n",
    "world.run(4)"
   ]
  },
  {
   "cell_type": "code",
   "execution_count": 12,
   "metadata": {},
   "outputs": [
    {
     "data": {
      "text/html": [
       "<pre style=\"margin:0px;;white-space:pre;overflow-x:auto;line-height:normal;font-family:Menlo,'DejaVu Sans Mono',consolas,'Courier New',monospace\"><span style=\"color: #00ffff; text-decoration-color: #00ffff; font-weight: bold; font-style: italic; text-decoration: underline\">USER</span><span style=\"color: #00ffff; text-decoration-color: #00ffff; font-weight: bold; font-style: italic\"> --&gt; </span><span style=\"color: #00ffff; text-decoration-color: #00ffff; font-weight: bold; font-style: italic; text-decoration: underline\">John Smith</span><span style=\"color: #00ffff; text-decoration-color: #00ffff; font-weight: bold; font-style: italic\">: [CONVERSATION] </span>\n",
       "<span style=\"color: #00ffff; text-decoration-color: #00ffff; font-weight: bold; font-style: italic\">          &gt; Is tesla FSD is good for hardware 3?</span>\n",
       "</pre>\n"
      ],
      "text/plain": [
       "\u001b[1;3;4;38;5;51mUSER\u001b[0m\u001b[1;3;38;5;51m --> \u001b[0m\u001b[1;3;4;38;5;51mJohn Smith\u001b[0m\u001b[1;3;38;5;51m: \u001b[0m\u001b[1;3;38;5;51m[\u001b[0m\u001b[1;3;38;5;51mCONVERSATION\u001b[0m\u001b[1;3;38;5;51m]\u001b[0m\u001b[1;3;38;5;51m \u001b[0m\n",
       "\u001b[1;3;38;5;51m          > Is tesla FSD is good for hardware \u001b[0m\u001b[1;3;38;5;51m3\u001b[0m\u001b[1;3;38;5;51m?\u001b[0m\n"
      ]
     },
     "metadata": {},
     "output_type": "display_data"
    },
    {
     "name": "stderr",
     "output_type": "stream",
     "text": [
      "2024-12-10 08:35:53,579 - tinytroupe - INFO - [Chat Room] Running world simulation step 1 of 4.\n"
     ]
    },
    {
     "data": {
      "text/html": [
       "<pre style=\"margin:0px;;white-space:pre;overflow-x:auto;line-height:normal;font-family:Menlo,'DejaVu Sans Mono',consolas,'Courier New',monospace\"><span style=\"color: #00ff00; text-decoration-color: #00ff00\">────────────────────────────────────────────── </span>Chat Room step <span style=\"color: #008080; text-decoration-color: #008080; font-weight: bold\">1</span> of <span style=\"color: #008080; text-decoration-color: #008080; font-weight: bold\">4</span><span style=\"color: #00ff00; text-decoration-color: #00ff00\"> ──────────────────────────────────────────────</span>\n",
       "</pre>\n"
      ],
      "text/plain": [
       "\u001b[92m────────────────────────────────────────────── \u001b[0mChat Room step \u001b[1;36m1\u001b[0m of \u001b[1;36m4\u001b[0m\u001b[92m ──────────────────────────────────────────────\u001b[0m\n"
      ]
     },
     "metadata": {},
     "output_type": "display_data"
    },
    {
     "name": "stderr",
     "output_type": "stream",
     "text": [
      "2024-12-10 08:35:53,580 - tinytroupe - INFO - [Chat Room] No timedelta provided, so the datetime was not advanced.\n"
     ]
    },
    {
     "data": {
      "text/html": [
       "<pre style=\"margin:0px;;white-space:pre;overflow-x:auto;line-height:normal;font-family:Menlo,'DejaVu Sans Mono',consolas,'Courier New',monospace\"><span style=\"color: #008000; text-decoration-color: #008000; text-decoration: underline\">John Smith</span><span style=\"color: #008000; text-decoration-color: #008000\"> acts: </span><span style=\"color: #008000; text-decoration-color: #008000; font-weight: bold\">[</span><span style=\"color: #008000; text-decoration-color: #008000\">THINK</span><span style=\"color: #008000; text-decoration-color: #008000; font-weight: bold\">]</span><span style=\"color: #008000; text-decoration-color: #008000\"> </span>\n",
       "<span style=\"color: #008000; text-decoration-color: #008000\">                &gt; Tesla has been very active with new models and autonomous driving. They've made</span>\n",
       "<span style=\"color: #008000; text-decoration-color: #008000\">                &gt; significant progress on both fronts.</span>\n",
       "</pre>\n"
      ],
      "text/plain": [
       "\u001b[4;32mJohn Smith\u001b[0m\u001b[32m acts: \u001b[0m\u001b[1;32m[\u001b[0m\u001b[32mTHINK\u001b[0m\u001b[1;32m]\u001b[0m\u001b[32m \u001b[0m\n",
       "\u001b[32m                > Tesla has been very active with new models and autonomous driving. They've made\u001b[0m\n",
       "\u001b[32m                > significant progress on both fronts.\u001b[0m\n"
      ]
     },
     "metadata": {},
     "output_type": "display_data"
    },
    {
     "data": {
      "text/html": [
       "<pre style=\"margin:0px;;white-space:pre;overflow-x:auto;line-height:normal;font-family:Menlo,'DejaVu Sans Mono',consolas,'Courier New',monospace\"><span style=\"color: #00d700; text-decoration-color: #00d700; font-weight: bold; text-decoration: underline\">John Smith</span><span style=\"color: #00d700; text-decoration-color: #00d700; font-weight: bold\"> acts: [TALK] </span>\n",
       "<span style=\"color: #00d700; text-decoration-color: #00d700; font-weight: bold\">                &gt; Tesla's FSD is indeed improving with each update. For Hardware </span><span style=\"color: #00d700; text-decoration-color: #00d700; font-weight: bold\">3</span><span style=\"color: #00d700; text-decoration-color: #00d700; font-weight: bold\"> vehicles, it has</span>\n",
       "<span style=\"color: #00d700; text-decoration-color: #00d700; font-weight: bold\">                &gt; seen significant enhancements.</span>\n",
       "</pre>\n"
      ],
      "text/plain": [
       "\u001b[1;4;38;5;40mJohn Smith\u001b[0m\u001b[1;38;5;40m acts: \u001b[0m\u001b[1;38;5;40m[\u001b[0m\u001b[1;38;5;40mTALK\u001b[0m\u001b[1;38;5;40m]\u001b[0m\u001b[1;38;5;40m \u001b[0m\n",
       "\u001b[1;38;5;40m                > Tesla's FSD is indeed improving with each update. For Hardware \u001b[0m\u001b[1;38;5;40m3\u001b[0m\u001b[1;38;5;40m vehicles, it has\u001b[0m\n",
       "\u001b[1;38;5;40m                > seen significant enhancements.\u001b[0m\n"
      ]
     },
     "metadata": {},
     "output_type": "display_data"
    },
    {
     "data": {
      "text/html": [
       "<pre style=\"margin:0px;;white-space:pre;overflow-x:auto;line-height:normal;font-family:Menlo,'DejaVu Sans Mono',consolas,'Courier New',monospace\">          <span style=\"color: #00d700; text-decoration-color: #00d700; font-weight: bold\">       + --&gt; </span>\n",
       "</pre>\n"
      ],
      "text/plain": [
       "          \u001b[1;38;5;40m       + --> \u001b[0m\n"
      ]
     },
     "metadata": {},
     "output_type": "display_data"
    },
    {
     "data": {
      "text/html": [
       "<pre style=\"margin:0px;;white-space:pre;overflow-x:auto;line-height:normal;font-family:Menlo,'DejaVu Sans Mono',consolas,'Courier New',monospace\"><span style=\"color: #00d700; text-decoration-color: #00d700; font-weight: bold; text-decoration: underline\">John Smith</span><span style=\"color: #00d700; text-decoration-color: #00d700; font-weight: bold\"> acts: [TALK] </span>\n",
       "<span style=\"color: #00d700; text-decoration-color: #00d700; font-weight: bold\">                &gt; Tesla's FSD has seen significant enhancements for Hardware </span><span style=\"color: #00d700; text-decoration-color: #00d700; font-weight: bold\">3</span><span style=\"color: #00d700; text-decoration-color: #00d700; font-weight: bold\"> vehicles with each</span>\n",
       "<span style=\"color: #00d700; text-decoration-color: #00d700; font-weight: bold\">                &gt; update.</span>\n",
       "</pre>\n"
      ],
      "text/plain": [
       "\u001b[1;4;38;5;40mJohn Smith\u001b[0m\u001b[1;38;5;40m acts: \u001b[0m\u001b[1;38;5;40m[\u001b[0m\u001b[1;38;5;40mTALK\u001b[0m\u001b[1;38;5;40m]\u001b[0m\u001b[1;38;5;40m \u001b[0m\n",
       "\u001b[1;38;5;40m                > Tesla's FSD has seen significant enhancements for Hardware \u001b[0m\u001b[1;38;5;40m3\u001b[0m\u001b[1;38;5;40m vehicles with each\u001b[0m\n",
       "\u001b[1;38;5;40m                > update.\u001b[0m\n"
      ]
     },
     "metadata": {},
     "output_type": "display_data"
    },
    {
     "data": {
      "text/html": [
       "<pre style=\"margin:0px;;white-space:pre;overflow-x:auto;line-height:normal;font-family:Menlo,'DejaVu Sans Mono',consolas,'Courier New',monospace\">          <span style=\"color: #00d700; text-decoration-color: #00d700; font-weight: bold\">       + --&gt; </span>\n",
       "</pre>\n"
      ],
      "text/plain": [
       "          \u001b[1;38;5;40m       + --> \u001b[0m\n"
      ]
     },
     "metadata": {},
     "output_type": "display_data"
    },
    {
     "data": {
      "text/html": [
       "<pre style=\"margin:0px;;white-space:pre;overflow-x:auto;line-height:normal;font-family:Menlo,'DejaVu Sans Mono',consolas,'Courier New',monospace\">          <span style=\"color: #00d700; text-decoration-color: #00d700; font-weight: bold\">       + --&gt; </span>\n",
       "</pre>\n"
      ],
      "text/plain": [
       "          \u001b[1;38;5;40m       + --> \u001b[0m\n"
      ]
     },
     "metadata": {},
     "output_type": "display_data"
    },
    {
     "name": "stderr",
     "output_type": "stream",
     "text": [
      "2024-12-10 08:39:57,877 - tinytroupe - WARNING - [John Smith] Agent John Smith is acting in a loop. This may be a bug. Let's stop it here anyway.\n"
     ]
    },
    {
     "data": {
      "text/html": [
       "<pre style=\"margin:0px;;white-space:pre;overflow-x:auto;line-height:normal;font-family:Menlo,'DejaVu Sans Mono',consolas,'Courier New',monospace\"><span style=\"color: #00ffff; text-decoration-color: #00ffff; font-weight: bold; font-style: italic; text-decoration: underline\">John Smith</span><span style=\"color: #00ffff; text-decoration-color: #00ffff; font-weight: bold; font-style: italic\"> --&gt; </span><span style=\"color: #00ffff; text-decoration-color: #00ffff; font-weight: bold; font-style: italic; text-decoration: underline\">Rez Carter</span><span style=\"color: #00ffff; text-decoration-color: #00ffff; font-weight: bold; font-style: italic\">: [CONVERSATION] </span>\n",
       "<span style=\"color: #00ffff; text-decoration-color: #00ffff; font-weight: bold; font-style: italic\">                &gt; Tesla's FSD is indeed improving with each update. For Hardware 3 vehicles, it has</span>\n",
       "<span style=\"color: #00ffff; text-decoration-color: #00ffff; font-weight: bold; font-style: italic\">                &gt; seen significant enhancements.</span>\n",
       "</pre>\n"
      ],
      "text/plain": [
       "\u001b[1;3;4;38;5;51mJohn Smith\u001b[0m\u001b[1;3;38;5;51m --> \u001b[0m\u001b[1;3;4;38;5;51mRez Carter\u001b[0m\u001b[1;3;38;5;51m: \u001b[0m\u001b[1;3;38;5;51m[\u001b[0m\u001b[1;3;38;5;51mCONVERSATION\u001b[0m\u001b[1;3;38;5;51m]\u001b[0m\u001b[1;3;38;5;51m \u001b[0m\n",
       "\u001b[1;3;38;5;51m                > Tesla's FSD is indeed improving with each update. For Hardware \u001b[0m\u001b[1;3;38;5;51m3\u001b[0m\u001b[1;3;38;5;51m vehicles, it has\u001b[0m\n",
       "\u001b[1;3;38;5;51m                > seen significant enhancements.\u001b[0m\n"
      ]
     },
     "metadata": {},
     "output_type": "display_data"
    },
    {
     "data": {
      "text/html": [
       "<pre style=\"margin:0px;;white-space:pre;overflow-x:auto;line-height:normal;font-family:Menlo,'DejaVu Sans Mono',consolas,'Courier New',monospace\">          <span style=\"color: #00ffff; text-decoration-color: #00ffff; font-weight: bold; font-style: italic\">       + --&gt; </span><span style=\"color: #00ffff; text-decoration-color: #00ffff; font-weight: bold; font-style: italic; text-decoration: underline\">Rez Carter</span>\n",
       "</pre>\n"
      ],
      "text/plain": [
       "          \u001b[1;3;38;5;51m       + --> \u001b[0m\u001b[1;3;4;38;5;51mRez Carter\u001b[0m\n"
      ]
     },
     "metadata": {},
     "output_type": "display_data"
    },
    {
     "data": {
      "text/html": [
       "<pre style=\"margin:0px;;white-space:pre;overflow-x:auto;line-height:normal;font-family:Menlo,'DejaVu Sans Mono',consolas,'Courier New',monospace\"><span style=\"color: #00ffff; text-decoration-color: #00ffff; font-weight: bold; font-style: italic; text-decoration: underline\">John Smith</span><span style=\"color: #00ffff; text-decoration-color: #00ffff; font-weight: bold; font-style: italic\"> --&gt; </span><span style=\"color: #00ffff; text-decoration-color: #00ffff; font-weight: bold; font-style: italic; text-decoration: underline\">Rez Carter</span><span style=\"color: #00ffff; text-decoration-color: #00ffff; font-weight: bold; font-style: italic\">: [CONVERSATION] </span>\n",
       "<span style=\"color: #00ffff; text-decoration-color: #00ffff; font-weight: bold; font-style: italic\">                &gt; Tesla's FSD has seen significant enhancements for Hardware 3 vehicles with each</span>\n",
       "<span style=\"color: #00ffff; text-decoration-color: #00ffff; font-weight: bold; font-style: italic\">                &gt; update.</span>\n",
       "</pre>\n"
      ],
      "text/plain": [
       "\u001b[1;3;4;38;5;51mJohn Smith\u001b[0m\u001b[1;3;38;5;51m --> \u001b[0m\u001b[1;3;4;38;5;51mRez Carter\u001b[0m\u001b[1;3;38;5;51m: \u001b[0m\u001b[1;3;38;5;51m[\u001b[0m\u001b[1;3;38;5;51mCONVERSATION\u001b[0m\u001b[1;3;38;5;51m]\u001b[0m\u001b[1;3;38;5;51m \u001b[0m\n",
       "\u001b[1;3;38;5;51m                > Tesla's FSD has seen significant enhancements for Hardware \u001b[0m\u001b[1;3;38;5;51m3\u001b[0m\u001b[1;3;38;5;51m vehicles with each\u001b[0m\n",
       "\u001b[1;3;38;5;51m                > update.\u001b[0m\n"
      ]
     },
     "metadata": {},
     "output_type": "display_data"
    },
    {
     "data": {
      "text/html": [
       "<pre style=\"margin:0px;;white-space:pre;overflow-x:auto;line-height:normal;font-family:Menlo,'DejaVu Sans Mono',consolas,'Courier New',monospace\">          <span style=\"color: #00ffff; text-decoration-color: #00ffff; font-weight: bold; font-style: italic\">       + --&gt; </span><span style=\"color: #00ffff; text-decoration-color: #00ffff; font-weight: bold; font-style: italic; text-decoration: underline\">Rez Carter</span>\n",
       "</pre>\n"
      ],
      "text/plain": [
       "          \u001b[1;3;38;5;51m       + --> \u001b[0m\u001b[1;3;4;38;5;51mRez Carter\u001b[0m\n"
      ]
     },
     "metadata": {},
     "output_type": "display_data"
    },
    {
     "data": {
      "text/html": [
       "<pre style=\"margin:0px;;white-space:pre;overflow-x:auto;line-height:normal;font-family:Menlo,'DejaVu Sans Mono',consolas,'Courier New',monospace\">          <span style=\"color: #00ffff; text-decoration-color: #00ffff; font-weight: bold; font-style: italic\">       + --&gt; </span><span style=\"color: #00ffff; text-decoration-color: #00ffff; font-weight: bold; font-style: italic; text-decoration: underline\">Rez Carter</span>\n",
       "</pre>\n"
      ],
      "text/plain": [
       "          \u001b[1;3;38;5;51m       + --> \u001b[0m\u001b[1;3;4;38;5;51mRez Carter\u001b[0m\n"
      ]
     },
     "metadata": {},
     "output_type": "display_data"
    },
    {
     "data": {
      "text/html": [
       "<pre style=\"margin:0px;;white-space:pre;overflow-x:auto;line-height:normal;font-family:Menlo,'DejaVu Sans Mono',consolas,'Courier New',monospace\"><span style=\"color: #00d700; text-decoration-color: #00d700; font-weight: bold; text-decoration: underline\">Rez Carter</span><span style=\"color: #00d700; text-decoration-color: #00d700; font-weight: bold\"> acts: [TALK] </span>\n",
       "<span style=\"color: #00d700; text-decoration-color: #00d700; font-weight: bold\">                &gt; Absolutely, I've noticed that too. The improvements are quite noticeable.</span>\n",
       "</pre>\n"
      ],
      "text/plain": [
       "\u001b[1;4;38;5;40mRez Carter\u001b[0m\u001b[1;38;5;40m acts: \u001b[0m\u001b[1;38;5;40m[\u001b[0m\u001b[1;38;5;40mTALK\u001b[0m\u001b[1;38;5;40m]\u001b[0m\u001b[1;38;5;40m \u001b[0m\n",
       "\u001b[1;38;5;40m                > Absolutely, I've noticed that too. The improvements are quite noticeable.\u001b[0m\n"
      ]
     },
     "metadata": {},
     "output_type": "display_data"
    },
    {
     "data": {
      "text/html": [
       "<pre style=\"margin:0px;;white-space:pre;overflow-x:auto;line-height:normal;font-family:Menlo,'DejaVu Sans Mono',consolas,'Courier New',monospace\">          <span style=\"color: #00d700; text-decoration-color: #00d700; font-weight: bold\">       + --&gt; </span><span style=\"color: #00d700; text-decoration-color: #00d700; font-weight: bold; text-decoration: underline\">John Smith</span>\n",
       "</pre>\n"
      ],
      "text/plain": [
       "          \u001b[1;38;5;40m       + --> \u001b[0m\u001b[1;4;38;5;40mJohn Smith\u001b[0m\n"
      ]
     },
     "metadata": {},
     "output_type": "display_data"
    },
    {
     "data": {
      "text/html": [
       "<pre style=\"margin:0px;;white-space:pre;overflow-x:auto;line-height:normal;font-family:Menlo,'DejaVu Sans Mono',consolas,'Courier New',monospace\">          <span style=\"color: #00d700; text-decoration-color: #00d700; font-weight: bold\">       + --&gt; </span><span style=\"color: #00d700; text-decoration-color: #00d700; font-weight: bold; text-decoration: underline\">John Smith</span>\n",
       "</pre>\n"
      ],
      "text/plain": [
       "          \u001b[1;38;5;40m       + --> \u001b[0m\u001b[1;4;38;5;40mJohn Smith\u001b[0m\n"
      ]
     },
     "metadata": {},
     "output_type": "display_data"
    },
    {
     "data": {
      "text/html": [
       "<pre style=\"margin:0px;;white-space:pre;overflow-x:auto;line-height:normal;font-family:Menlo,'DejaVu Sans Mono',consolas,'Courier New',monospace\">          <span style=\"color: #00d700; text-decoration-color: #00d700; font-weight: bold\">       + --&gt; ...others...</span>\n",
       "</pre>\n"
      ],
      "text/plain": [
       "          \u001b[1;38;5;40m       + --> \u001b[0m\u001b[1;38;5;40m...\u001b[0m\u001b[1;38;5;40mothers\u001b[0m\u001b[1;38;5;40m...\u001b[0m\n"
      ]
     },
     "metadata": {},
     "output_type": "display_data"
    },
    {
     "name": "stderr",
     "output_type": "stream",
     "text": [
      "2024-12-10 08:41:19,643 - tinytroupe - WARNING - [Rez Carter] Agent Rez Carter is acting in a loop. This may be a bug. Let's stop it here anyway.\n"
     ]
    },
    {
     "data": {
      "text/html": [
       "<pre style=\"margin:0px;;white-space:pre;overflow-x:auto;line-height:normal;font-family:Menlo,'DejaVu Sans Mono',consolas,'Courier New',monospace\"><span style=\"color: #00ffff; text-decoration-color: #00ffff; font-weight: bold; font-style: italic; text-decoration: underline\">Rez Carter</span><span style=\"color: #00ffff; text-decoration-color: #00ffff; font-weight: bold; font-style: italic\"> --&gt; </span><span style=\"color: #00ffff; text-decoration-color: #00ffff; font-weight: bold; font-style: italic; text-decoration: underline\">John Smith</span><span style=\"color: #00ffff; text-decoration-color: #00ffff; font-weight: bold; font-style: italic\">: [CONVERSATION] </span>\n",
       "<span style=\"color: #00ffff; text-decoration-color: #00ffff; font-weight: bold; font-style: italic\">                &gt; Absolutely, I've noticed that too. The improvements are quite noticeable.</span>\n",
       "</pre>\n"
      ],
      "text/plain": [
       "\u001b[1;3;4;38;5;51mRez Carter\u001b[0m\u001b[1;3;38;5;51m --> \u001b[0m\u001b[1;3;4;38;5;51mJohn Smith\u001b[0m\u001b[1;3;38;5;51m: \u001b[0m\u001b[1;3;38;5;51m[\u001b[0m\u001b[1;3;38;5;51mCONVERSATION\u001b[0m\u001b[1;3;38;5;51m]\u001b[0m\u001b[1;3;38;5;51m \u001b[0m\n",
       "\u001b[1;3;38;5;51m                > Absolutely, I've noticed that too. The improvements are quite noticeable.\u001b[0m\n"
      ]
     },
     "metadata": {},
     "output_type": "display_data"
    },
    {
     "data": {
      "text/html": [
       "<pre style=\"margin:0px;;white-space:pre;overflow-x:auto;line-height:normal;font-family:Menlo,'DejaVu Sans Mono',consolas,'Courier New',monospace\">          <span style=\"color: #00ffff; text-decoration-color: #00ffff; font-weight: bold; font-style: italic\">       + --&gt; </span><span style=\"color: #00ffff; text-decoration-color: #00ffff; font-weight: bold; font-style: italic; text-decoration: underline\">John Smith</span>\n",
       "</pre>\n"
      ],
      "text/plain": [
       "          \u001b[1;3;38;5;51m       + --> \u001b[0m\u001b[1;3;4;38;5;51mJohn Smith\u001b[0m\n"
      ]
     },
     "metadata": {},
     "output_type": "display_data"
    },
    {
     "data": {
      "text/html": [
       "<pre style=\"margin:0px;;white-space:pre;overflow-x:auto;line-height:normal;font-family:Menlo,'DejaVu Sans Mono',consolas,'Courier New',monospace\">          <span style=\"color: #00ffff; text-decoration-color: #00ffff; font-weight: bold; font-style: italic\">       + --&gt; </span><span style=\"color: #00ffff; text-decoration-color: #00ffff; font-weight: bold; font-style: italic; text-decoration: underline\">John Smith</span>\n",
       "</pre>\n"
      ],
      "text/plain": [
       "          \u001b[1;3;38;5;51m       + --> \u001b[0m\u001b[1;3;4;38;5;51mJohn Smith\u001b[0m\n"
      ]
     },
     "metadata": {},
     "output_type": "display_data"
    },
    {
     "data": {
      "text/html": [
       "<pre style=\"margin:0px;;white-space:pre;overflow-x:auto;line-height:normal;font-family:Menlo,'DejaVu Sans Mono',consolas,'Courier New',monospace\">          <span style=\"color: #00ffff; text-decoration-color: #00ffff; font-weight: bold; font-style: italic\">       + --&gt; ...others...</span>\n",
       "</pre>\n"
      ],
      "text/plain": [
       "          \u001b[1;3;38;5;51m       + --> \u001b[0m\u001b[1;3;38;5;51m...\u001b[0m\u001b[1;3;38;5;51mothers\u001b[0m\u001b[1;3;38;5;51m...\u001b[0m\n"
      ]
     },
     "metadata": {},
     "output_type": "display_data"
    },
    {
     "name": "stderr",
     "output_type": "stream",
     "text": [
      "2024-12-10 08:41:19,653 - tinytroupe - INFO - [Chat Room] Running world simulation step 2 of 4.\n"
     ]
    },
    {
     "data": {
      "text/html": [
       "<pre style=\"margin:0px;;white-space:pre;overflow-x:auto;line-height:normal;font-family:Menlo,'DejaVu Sans Mono',consolas,'Courier New',monospace\"><span style=\"color: #00ff00; text-decoration-color: #00ff00\">────────────────────────────────────────────── </span>Chat Room step <span style=\"color: #008080; text-decoration-color: #008080; font-weight: bold\">2</span> of <span style=\"color: #008080; text-decoration-color: #008080; font-weight: bold\">4</span><span style=\"color: #00ff00; text-decoration-color: #00ff00\"> ──────────────────────────────────────────────</span>\n",
       "</pre>\n"
      ],
      "text/plain": [
       "\u001b[92m────────────────────────────────────────────── \u001b[0mChat Room step \u001b[1;36m2\u001b[0m of \u001b[1;36m4\u001b[0m\u001b[92m ──────────────────────────────────────────────\u001b[0m\n"
      ]
     },
     "metadata": {},
     "output_type": "display_data"
    },
    {
     "name": "stderr",
     "output_type": "stream",
     "text": [
      "2024-12-10 08:41:19,656 - tinytroupe - INFO - [Chat Room] No timedelta provided, so the datetime was not advanced.\n"
     ]
    },
    {
     "data": {
      "text/html": [
       "<pre style=\"margin:0px;;white-space:pre;overflow-x:auto;line-height:normal;font-family:Menlo,'DejaVu Sans Mono',consolas,'Courier New',monospace\"><span style=\"color: #00d700; text-decoration-color: #00d700; font-weight: bold; text-decoration: underline\">John Smith</span><span style=\"color: #00d700; text-decoration-color: #00d700; font-weight: bold\"> acts: [TALK] </span>\n",
       "<span style=\"color: #00d700; text-decoration-color: #00d700; font-weight: bold\">                &gt; It's great to see such progress. Do you think this will attract more investors?</span>\n",
       "</pre>\n"
      ],
      "text/plain": [
       "\u001b[1;4;38;5;40mJohn Smith\u001b[0m\u001b[1;38;5;40m acts: \u001b[0m\u001b[1;38;5;40m[\u001b[0m\u001b[1;38;5;40mTALK\u001b[0m\u001b[1;38;5;40m]\u001b[0m\u001b[1;38;5;40m \u001b[0m\n",
       "\u001b[1;38;5;40m                > It's great to see such progress. Do you think this will attract more investors?\u001b[0m\n"
      ]
     },
     "metadata": {},
     "output_type": "display_data"
    },
    {
     "data": {
      "text/html": [
       "<pre style=\"margin:0px;;white-space:pre;overflow-x:auto;line-height:normal;font-family:Menlo,'DejaVu Sans Mono',consolas,'Courier New',monospace\">          <span style=\"color: #00d700; text-decoration-color: #00d700; font-weight: bold\">       + --&gt; </span><span style=\"color: #00d700; text-decoration-color: #00d700; font-weight: bold; text-decoration: underline\">Rez Carter</span>\n",
       "</pre>\n"
      ],
      "text/plain": [
       "          \u001b[1;38;5;40m       + --> \u001b[0m\u001b[1;4;38;5;40mRez Carter\u001b[0m\n"
      ]
     },
     "metadata": {},
     "output_type": "display_data"
    },
    {
     "data": {
      "text/html": [
       "<pre style=\"margin:0px;;white-space:pre;overflow-x:auto;line-height:normal;font-family:Menlo,'DejaVu Sans Mono',consolas,'Courier New',monospace\">          <span style=\"color: #00d700; text-decoration-color: #00d700; font-weight: bold\">       + --&gt; </span><span style=\"color: #00d700; text-decoration-color: #00d700; font-weight: bold; text-decoration: underline\">Rez Carter</span>\n",
       "</pre>\n"
      ],
      "text/plain": [
       "          \u001b[1;38;5;40m       + --> \u001b[0m\u001b[1;4;38;5;40mRez Carter\u001b[0m\n"
      ]
     },
     "metadata": {},
     "output_type": "display_data"
    },
    {
     "data": {
      "text/html": [
       "<pre style=\"margin:0px;;white-space:pre;overflow-x:auto;line-height:normal;font-family:Menlo,'DejaVu Sans Mono',consolas,'Courier New',monospace\">          <span style=\"color: #00d700; text-decoration-color: #00d700; font-weight: bold\">       + --&gt; ...others...</span>\n",
       "</pre>\n"
      ],
      "text/plain": [
       "          \u001b[1;38;5;40m       + --> \u001b[0m\u001b[1;38;5;40m...\u001b[0m\u001b[1;38;5;40mothers\u001b[0m\u001b[1;38;5;40m...\u001b[0m\n"
      ]
     },
     "metadata": {},
     "output_type": "display_data"
    },
    {
     "name": "stderr",
     "output_type": "stream",
     "text": [
      "2024-12-10 08:45:04,543 - tinytroupe - WARNING - [John Smith] Agent John Smith is acting in a loop. This may be a bug. Let's stop it here anyway.\n"
     ]
    },
    {
     "data": {
      "text/html": [
       "<pre style=\"margin:0px;;white-space:pre;overflow-x:auto;line-height:normal;font-family:Menlo,'DejaVu Sans Mono',consolas,'Courier New',monospace\"><span style=\"color: #00ffff; text-decoration-color: #00ffff; font-weight: bold; font-style: italic; text-decoration: underline\">John Smith</span><span style=\"color: #00ffff; text-decoration-color: #00ffff; font-weight: bold; font-style: italic\"> --&gt; </span><span style=\"color: #00ffff; text-decoration-color: #00ffff; font-weight: bold; font-style: italic; text-decoration: underline\">Rez Carter</span><span style=\"color: #00ffff; text-decoration-color: #00ffff; font-weight: bold; font-style: italic\">: [CONVERSATION] </span>\n",
       "<span style=\"color: #00ffff; text-decoration-color: #00ffff; font-weight: bold; font-style: italic\">                &gt; It's great to see such progress. Do you think this will attract more investors?</span>\n",
       "</pre>\n"
      ],
      "text/plain": [
       "\u001b[1;3;4;38;5;51mJohn Smith\u001b[0m\u001b[1;3;38;5;51m --> \u001b[0m\u001b[1;3;4;38;5;51mRez Carter\u001b[0m\u001b[1;3;38;5;51m: \u001b[0m\u001b[1;3;38;5;51m[\u001b[0m\u001b[1;3;38;5;51mCONVERSATION\u001b[0m\u001b[1;3;38;5;51m]\u001b[0m\u001b[1;3;38;5;51m \u001b[0m\n",
       "\u001b[1;3;38;5;51m                > It's great to see such progress. Do you think this will attract more investors?\u001b[0m\n"
      ]
     },
     "metadata": {},
     "output_type": "display_data"
    },
    {
     "data": {
      "text/html": [
       "<pre style=\"margin:0px;;white-space:pre;overflow-x:auto;line-height:normal;font-family:Menlo,'DejaVu Sans Mono',consolas,'Courier New',monospace\">          <span style=\"color: #00ffff; text-decoration-color: #00ffff; font-weight: bold; font-style: italic\">       + --&gt; </span><span style=\"color: #00ffff; text-decoration-color: #00ffff; font-weight: bold; font-style: italic; text-decoration: underline\">Rez Carter</span>\n",
       "</pre>\n"
      ],
      "text/plain": [
       "          \u001b[1;3;38;5;51m       + --> \u001b[0m\u001b[1;3;4;38;5;51mRez Carter\u001b[0m\n"
      ]
     },
     "metadata": {},
     "output_type": "display_data"
    },
    {
     "data": {
      "text/html": [
       "<pre style=\"margin:0px;;white-space:pre;overflow-x:auto;line-height:normal;font-family:Menlo,'DejaVu Sans Mono',consolas,'Courier New',monospace\">          <span style=\"color: #00ffff; text-decoration-color: #00ffff; font-weight: bold; font-style: italic\">       + --&gt; </span><span style=\"color: #00ffff; text-decoration-color: #00ffff; font-weight: bold; font-style: italic; text-decoration: underline\">Rez Carter</span>\n",
       "</pre>\n"
      ],
      "text/plain": [
       "          \u001b[1;3;38;5;51m       + --> \u001b[0m\u001b[1;3;4;38;5;51mRez Carter\u001b[0m\n"
      ]
     },
     "metadata": {},
     "output_type": "display_data"
    },
    {
     "data": {
      "text/html": [
       "<pre style=\"margin:0px;;white-space:pre;overflow-x:auto;line-height:normal;font-family:Menlo,'DejaVu Sans Mono',consolas,'Courier New',monospace\">          <span style=\"color: #00ffff; text-decoration-color: #00ffff; font-weight: bold; font-style: italic\">       + --&gt; ...others...</span>\n",
       "</pre>\n"
      ],
      "text/plain": [
       "          \u001b[1;3;38;5;51m       + --> \u001b[0m\u001b[1;3;38;5;51m...\u001b[0m\u001b[1;3;38;5;51mothers\u001b[0m\u001b[1;3;38;5;51m...\u001b[0m\n"
      ]
     },
     "metadata": {},
     "output_type": "display_data"
    },
    {
     "data": {
      "text/html": [
       "<pre style=\"margin:0px;;white-space:pre;overflow-x:auto;line-height:normal;font-family:Menlo,'DejaVu Sans Mono',consolas,'Courier New',monospace\"><span style=\"color: #00d700; text-decoration-color: #00d700; font-weight: bold; text-decoration: underline\">Rez Carter</span><span style=\"color: #00d700; text-decoration-color: #00d700; font-weight: bold\"> acts: [TALK] </span>\n",
       "<span style=\"color: #00d700; text-decoration-color: #00d700; font-weight: bold\">                &gt; Definitely. The advancements in FSD and overall company performance can definitely</span>\n",
       "<span style=\"color: #00d700; text-decoration-color: #00d700; font-weight: bold\">                &gt; attract more investors.</span>\n",
       "</pre>\n"
      ],
      "text/plain": [
       "\u001b[1;4;38;5;40mRez Carter\u001b[0m\u001b[1;38;5;40m acts: \u001b[0m\u001b[1;38;5;40m[\u001b[0m\u001b[1;38;5;40mTALK\u001b[0m\u001b[1;38;5;40m]\u001b[0m\u001b[1;38;5;40m \u001b[0m\n",
       "\u001b[1;38;5;40m                > Definitely. The advancements in FSD and overall company performance can definitely\u001b[0m\n",
       "\u001b[1;38;5;40m                > attract more investors.\u001b[0m\n"
      ]
     },
     "metadata": {},
     "output_type": "display_data"
    },
    {
     "data": {
      "text/html": [
       "<pre style=\"margin:0px;;white-space:pre;overflow-x:auto;line-height:normal;font-family:Menlo,'DejaVu Sans Mono',consolas,'Courier New',monospace\">          <span style=\"color: #00d700; text-decoration-color: #00d700; font-weight: bold\">       + --&gt; </span><span style=\"color: #00d700; text-decoration-color: #00d700; font-weight: bold; text-decoration: underline\">John Smith</span>\n",
       "</pre>\n"
      ],
      "text/plain": [
       "          \u001b[1;38;5;40m       + --> \u001b[0m\u001b[1;4;38;5;40mJohn Smith\u001b[0m\n"
      ]
     },
     "metadata": {},
     "output_type": "display_data"
    },
    {
     "data": {
      "text/html": [
       "<pre style=\"margin:0px;;white-space:pre;overflow-x:auto;line-height:normal;font-family:Menlo,'DejaVu Sans Mono',consolas,'Courier New',monospace\">          <span style=\"color: #00d700; text-decoration-color: #00d700; font-weight: bold\">       + --&gt; </span><span style=\"color: #00d700; text-decoration-color: #00d700; font-weight: bold; text-decoration: underline\">John Smith</span>\n",
       "</pre>\n"
      ],
      "text/plain": [
       "          \u001b[1;38;5;40m       + --> \u001b[0m\u001b[1;4;38;5;40mJohn Smith\u001b[0m\n"
      ]
     },
     "metadata": {},
     "output_type": "display_data"
    },
    {
     "data": {
      "text/html": [
       "<pre style=\"margin:0px;;white-space:pre;overflow-x:auto;line-height:normal;font-family:Menlo,'DejaVu Sans Mono',consolas,'Courier New',monospace\">          <span style=\"color: #00d700; text-decoration-color: #00d700; font-weight: bold\">       + --&gt; ...others...</span>\n",
       "</pre>\n"
      ],
      "text/plain": [
       "          \u001b[1;38;5;40m       + --> \u001b[0m\u001b[1;38;5;40m...\u001b[0m\u001b[1;38;5;40mothers\u001b[0m\u001b[1;38;5;40m...\u001b[0m\n"
      ]
     },
     "metadata": {},
     "output_type": "display_data"
    },
    {
     "name": "stderr",
     "output_type": "stream",
     "text": [
      "2024-12-10 08:46:35,982 - tinytroupe - WARNING - [Rez Carter] Agent Rez Carter is acting in a loop. This may be a bug. Let's stop it here anyway.\n"
     ]
    },
    {
     "data": {
      "text/html": [
       "<pre style=\"margin:0px;;white-space:pre;overflow-x:auto;line-height:normal;font-family:Menlo,'DejaVu Sans Mono',consolas,'Courier New',monospace\"><span style=\"color: #00ffff; text-decoration-color: #00ffff; font-weight: bold; font-style: italic; text-decoration: underline\">Rez Carter</span><span style=\"color: #00ffff; text-decoration-color: #00ffff; font-weight: bold; font-style: italic\"> --&gt; </span><span style=\"color: #00ffff; text-decoration-color: #00ffff; font-weight: bold; font-style: italic; text-decoration: underline\">John Smith</span><span style=\"color: #00ffff; text-decoration-color: #00ffff; font-weight: bold; font-style: italic\">: [CONVERSATION] </span>\n",
       "<span style=\"color: #00ffff; text-decoration-color: #00ffff; font-weight: bold; font-style: italic\">                &gt; Definitely. The advancements in FSD and overall company performance can definitely</span>\n",
       "<span style=\"color: #00ffff; text-decoration-color: #00ffff; font-weight: bold; font-style: italic\">                &gt; attract more investors.</span>\n",
       "</pre>\n"
      ],
      "text/plain": [
       "\u001b[1;3;4;38;5;51mRez Carter\u001b[0m\u001b[1;3;38;5;51m --> \u001b[0m\u001b[1;3;4;38;5;51mJohn Smith\u001b[0m\u001b[1;3;38;5;51m: \u001b[0m\u001b[1;3;38;5;51m[\u001b[0m\u001b[1;3;38;5;51mCONVERSATION\u001b[0m\u001b[1;3;38;5;51m]\u001b[0m\u001b[1;3;38;5;51m \u001b[0m\n",
       "\u001b[1;3;38;5;51m                > Definitely. The advancements in FSD and overall company performance can definitely\u001b[0m\n",
       "\u001b[1;3;38;5;51m                > attract more investors.\u001b[0m\n"
      ]
     },
     "metadata": {},
     "output_type": "display_data"
    },
    {
     "data": {
      "text/html": [
       "<pre style=\"margin:0px;;white-space:pre;overflow-x:auto;line-height:normal;font-family:Menlo,'DejaVu Sans Mono',consolas,'Courier New',monospace\">          <span style=\"color: #00ffff; text-decoration-color: #00ffff; font-weight: bold; font-style: italic\">       + --&gt; </span><span style=\"color: #00ffff; text-decoration-color: #00ffff; font-weight: bold; font-style: italic; text-decoration: underline\">John Smith</span>\n",
       "</pre>\n"
      ],
      "text/plain": [
       "          \u001b[1;3;38;5;51m       + --> \u001b[0m\u001b[1;3;4;38;5;51mJohn Smith\u001b[0m\n"
      ]
     },
     "metadata": {},
     "output_type": "display_data"
    },
    {
     "data": {
      "text/html": [
       "<pre style=\"margin:0px;;white-space:pre;overflow-x:auto;line-height:normal;font-family:Menlo,'DejaVu Sans Mono',consolas,'Courier New',monospace\">          <span style=\"color: #00ffff; text-decoration-color: #00ffff; font-weight: bold; font-style: italic\">       + --&gt; </span><span style=\"color: #00ffff; text-decoration-color: #00ffff; font-weight: bold; font-style: italic; text-decoration: underline\">John Smith</span>\n",
       "</pre>\n"
      ],
      "text/plain": [
       "          \u001b[1;3;38;5;51m       + --> \u001b[0m\u001b[1;3;4;38;5;51mJohn Smith\u001b[0m\n"
      ]
     },
     "metadata": {},
     "output_type": "display_data"
    },
    {
     "data": {
      "text/html": [
       "<pre style=\"margin:0px;;white-space:pre;overflow-x:auto;line-height:normal;font-family:Menlo,'DejaVu Sans Mono',consolas,'Courier New',monospace\">          <span style=\"color: #00ffff; text-decoration-color: #00ffff; font-weight: bold; font-style: italic\">       + --&gt; ...others...</span>\n",
       "</pre>\n"
      ],
      "text/plain": [
       "          \u001b[1;3;38;5;51m       + --> \u001b[0m\u001b[1;3;38;5;51m...\u001b[0m\u001b[1;3;38;5;51mothers\u001b[0m\u001b[1;3;38;5;51m...\u001b[0m\n"
      ]
     },
     "metadata": {},
     "output_type": "display_data"
    },
    {
     "name": "stderr",
     "output_type": "stream",
     "text": [
      "2024-12-10 08:46:35,987 - tinytroupe - INFO - [Chat Room] Running world simulation step 3 of 4.\n"
     ]
    },
    {
     "data": {
      "text/html": [
       "<pre style=\"margin:0px;;white-space:pre;overflow-x:auto;line-height:normal;font-family:Menlo,'DejaVu Sans Mono',consolas,'Courier New',monospace\"><span style=\"color: #00ff00; text-decoration-color: #00ff00\">────────────────────────────────────────────── </span>Chat Room step <span style=\"color: #008080; text-decoration-color: #008080; font-weight: bold\">3</span> of <span style=\"color: #008080; text-decoration-color: #008080; font-weight: bold\">4</span><span style=\"color: #00ff00; text-decoration-color: #00ff00\"> ──────────────────────────────────────────────</span>\n",
       "</pre>\n"
      ],
      "text/plain": [
       "\u001b[92m────────────────────────────────────────────── \u001b[0mChat Room step \u001b[1;36m3\u001b[0m of \u001b[1;36m4\u001b[0m\u001b[92m ──────────────────────────────────────────────\u001b[0m\n"
      ]
     },
     "metadata": {},
     "output_type": "display_data"
    },
    {
     "name": "stderr",
     "output_type": "stream",
     "text": [
      "2024-12-10 08:46:35,989 - tinytroupe - INFO - [Chat Room] No timedelta provided, so the datetime was not advanced.\n"
     ]
    },
    {
     "data": {
      "text/html": [
       "<pre style=\"margin:0px;;white-space:pre;overflow-x:auto;line-height:normal;font-family:Menlo,'DejaVu Sans Mono',consolas,'Courier New',monospace\"><span style=\"color: #00d700; text-decoration-color: #00d700; font-weight: bold; text-decoration: underline\">John Smith</span><span style=\"color: #00d700; text-decoration-color: #00d700; font-weight: bold\"> acts: [TALK] </span>\n",
       "<span style=\"color: #00d700; text-decoration-color: #00d700; font-weight: bold\">                &gt; That's good to know. I'm still a bit hesitant about investing due to the high</span>\n",
       "<span style=\"color: #00d700; text-decoration-color: #00d700; font-weight: bold\">                &gt; risk, but your insights are helping.</span>\n",
       "</pre>\n"
      ],
      "text/plain": [
       "\u001b[1;4;38;5;40mJohn Smith\u001b[0m\u001b[1;38;5;40m acts: \u001b[0m\u001b[1;38;5;40m[\u001b[0m\u001b[1;38;5;40mTALK\u001b[0m\u001b[1;38;5;40m]\u001b[0m\u001b[1;38;5;40m \u001b[0m\n",
       "\u001b[1;38;5;40m                > That's good to know. I'm still a bit hesitant about investing due to the high\u001b[0m\n",
       "\u001b[1;38;5;40m                > risk, but your insights are helping.\u001b[0m\n"
      ]
     },
     "metadata": {},
     "output_type": "display_data"
    },
    {
     "data": {
      "text/html": [
       "<pre style=\"margin:0px;;white-space:pre;overflow-x:auto;line-height:normal;font-family:Menlo,'DejaVu Sans Mono',consolas,'Courier New',monospace\">          <span style=\"color: #00d700; text-decoration-color: #00d700; font-weight: bold\">       + --&gt; </span><span style=\"color: #00d700; text-decoration-color: #00d700; font-weight: bold; text-decoration: underline\">Rez Carter</span>\n",
       "</pre>\n"
      ],
      "text/plain": [
       "          \u001b[1;38;5;40m       + --> \u001b[0m\u001b[1;4;38;5;40mRez Carter\u001b[0m\n"
      ]
     },
     "metadata": {},
     "output_type": "display_data"
    },
    {
     "data": {
      "text/html": [
       "<pre style=\"margin:0px;;white-space:pre;overflow-x:auto;line-height:normal;font-family:Menlo,'DejaVu Sans Mono',consolas,'Courier New',monospace\">          <span style=\"color: #00d700; text-decoration-color: #00d700; font-weight: bold\">       + --&gt; </span><span style=\"color: #00d700; text-decoration-color: #00d700; font-weight: bold; text-decoration: underline\">Rez Carter</span>\n",
       "</pre>\n"
      ],
      "text/plain": [
       "          \u001b[1;38;5;40m       + --> \u001b[0m\u001b[1;4;38;5;40mRez Carter\u001b[0m\n"
      ]
     },
     "metadata": {},
     "output_type": "display_data"
    },
    {
     "data": {
      "text/html": [
       "<pre style=\"margin:0px;;white-space:pre;overflow-x:auto;line-height:normal;font-family:Menlo,'DejaVu Sans Mono',consolas,'Courier New',monospace\">          <span style=\"color: #00d700; text-decoration-color: #00d700; font-weight: bold\">       + --&gt; ...others...</span>\n",
       "</pre>\n"
      ],
      "text/plain": [
       "          \u001b[1;38;5;40m       + --> \u001b[0m\u001b[1;38;5;40m...\u001b[0m\u001b[1;38;5;40mothers\u001b[0m\u001b[1;38;5;40m...\u001b[0m\n"
      ]
     },
     "metadata": {},
     "output_type": "display_data"
    },
    {
     "name": "stderr",
     "output_type": "stream",
     "text": [
      "2024-12-10 08:50:50,548 - tinytroupe - WARNING - [John Smith] Agent John Smith is acting in a loop. This may be a bug. Let's stop it here anyway.\n"
     ]
    },
    {
     "data": {
      "text/html": [
       "<pre style=\"margin:0px;;white-space:pre;overflow-x:auto;line-height:normal;font-family:Menlo,'DejaVu Sans Mono',consolas,'Courier New',monospace\"><span style=\"color: #00ffff; text-decoration-color: #00ffff; font-weight: bold; font-style: italic; text-decoration: underline\">John Smith</span><span style=\"color: #00ffff; text-decoration-color: #00ffff; font-weight: bold; font-style: italic\"> --&gt; </span><span style=\"color: #00ffff; text-decoration-color: #00ffff; font-weight: bold; font-style: italic; text-decoration: underline\">Rez Carter</span><span style=\"color: #00ffff; text-decoration-color: #00ffff; font-weight: bold; font-style: italic\">: [CONVERSATION] </span>\n",
       "<span style=\"color: #00ffff; text-decoration-color: #00ffff; font-weight: bold; font-style: italic\">                &gt; That's good to know. I'm still a bit hesitant about investing due to the high</span>\n",
       "<span style=\"color: #00ffff; text-decoration-color: #00ffff; font-weight: bold; font-style: italic\">                &gt; risk, but your insights are helping.</span>\n",
       "</pre>\n"
      ],
      "text/plain": [
       "\u001b[1;3;4;38;5;51mJohn Smith\u001b[0m\u001b[1;3;38;5;51m --> \u001b[0m\u001b[1;3;4;38;5;51mRez Carter\u001b[0m\u001b[1;3;38;5;51m: \u001b[0m\u001b[1;3;38;5;51m[\u001b[0m\u001b[1;3;38;5;51mCONVERSATION\u001b[0m\u001b[1;3;38;5;51m]\u001b[0m\u001b[1;3;38;5;51m \u001b[0m\n",
       "\u001b[1;3;38;5;51m                > That's good to know. I'm still a bit hesitant about investing due to the high\u001b[0m\n",
       "\u001b[1;3;38;5;51m                > risk, but your insights are helping.\u001b[0m\n"
      ]
     },
     "metadata": {},
     "output_type": "display_data"
    },
    {
     "data": {
      "text/html": [
       "<pre style=\"margin:0px;;white-space:pre;overflow-x:auto;line-height:normal;font-family:Menlo,'DejaVu Sans Mono',consolas,'Courier New',monospace\">          <span style=\"color: #00ffff; text-decoration-color: #00ffff; font-weight: bold; font-style: italic\">       + --&gt; </span><span style=\"color: #00ffff; text-decoration-color: #00ffff; font-weight: bold; font-style: italic; text-decoration: underline\">Rez Carter</span>\n",
       "</pre>\n"
      ],
      "text/plain": [
       "          \u001b[1;3;38;5;51m       + --> \u001b[0m\u001b[1;3;4;38;5;51mRez Carter\u001b[0m\n"
      ]
     },
     "metadata": {},
     "output_type": "display_data"
    },
    {
     "data": {
      "text/html": [
       "<pre style=\"margin:0px;;white-space:pre;overflow-x:auto;line-height:normal;font-family:Menlo,'DejaVu Sans Mono',consolas,'Courier New',monospace\">          <span style=\"color: #00ffff; text-decoration-color: #00ffff; font-weight: bold; font-style: italic\">       + --&gt; </span><span style=\"color: #00ffff; text-decoration-color: #00ffff; font-weight: bold; font-style: italic; text-decoration: underline\">Rez Carter</span>\n",
       "</pre>\n"
      ],
      "text/plain": [
       "          \u001b[1;3;38;5;51m       + --> \u001b[0m\u001b[1;3;4;38;5;51mRez Carter\u001b[0m\n"
      ]
     },
     "metadata": {},
     "output_type": "display_data"
    },
    {
     "data": {
      "text/html": [
       "<pre style=\"margin:0px;;white-space:pre;overflow-x:auto;line-height:normal;font-family:Menlo,'DejaVu Sans Mono',consolas,'Courier New',monospace\">          <span style=\"color: #00ffff; text-decoration-color: #00ffff; font-weight: bold; font-style: italic\">       + --&gt; ...others...</span>\n",
       "</pre>\n"
      ],
      "text/plain": [
       "          \u001b[1;3;38;5;51m       + --> \u001b[0m\u001b[1;3;38;5;51m...\u001b[0m\u001b[1;3;38;5;51mothers\u001b[0m\u001b[1;3;38;5;51m...\u001b[0m\n"
      ]
     },
     "metadata": {},
     "output_type": "display_data"
    },
    {
     "data": {
      "text/html": [
       "<pre style=\"margin:0px;;white-space:pre;overflow-x:auto;line-height:normal;font-family:Menlo,'DejaVu Sans Mono',consolas,'Courier New',monospace\"><span style=\"color: #00d700; text-decoration-color: #00d700; font-weight: bold; text-decoration: underline\">Rez Carter</span><span style=\"color: #00d700; text-decoration-color: #00d700; font-weight: bold\"> acts: [TALK] </span>\n",
       "<span style=\"color: #00d700; text-decoration-color: #00d700; font-weight: bold\">                &gt; I understand. Investing always comes with risks, but Tesla's recent performance</span>\n",
       "<span style=\"color: #00d700; text-decoration-color: #00d700; font-weight: bold\">                &gt; and future prospects are quite promising.</span>\n",
       "</pre>\n"
      ],
      "text/plain": [
       "\u001b[1;4;38;5;40mRez Carter\u001b[0m\u001b[1;38;5;40m acts: \u001b[0m\u001b[1;38;5;40m[\u001b[0m\u001b[1;38;5;40mTALK\u001b[0m\u001b[1;38;5;40m]\u001b[0m\u001b[1;38;5;40m \u001b[0m\n",
       "\u001b[1;38;5;40m                > I understand. Investing always comes with risks, but Tesla's recent performance\u001b[0m\n",
       "\u001b[1;38;5;40m                > and future prospects are quite promising.\u001b[0m\n"
      ]
     },
     "metadata": {},
     "output_type": "display_data"
    },
    {
     "data": {
      "text/html": [
       "<pre style=\"margin:0px;;white-space:pre;overflow-x:auto;line-height:normal;font-family:Menlo,'DejaVu Sans Mono',consolas,'Courier New',monospace\">          <span style=\"color: #00d700; text-decoration-color: #00d700; font-weight: bold\">       + --&gt; </span><span style=\"color: #00d700; text-decoration-color: #00d700; font-weight: bold; text-decoration: underline\">John Smith</span>\n",
       "</pre>\n"
      ],
      "text/plain": [
       "          \u001b[1;38;5;40m       + --> \u001b[0m\u001b[1;4;38;5;40mJohn Smith\u001b[0m\n"
      ]
     },
     "metadata": {},
     "output_type": "display_data"
    },
    {
     "data": {
      "text/html": [
       "<pre style=\"margin:0px;;white-space:pre;overflow-x:auto;line-height:normal;font-family:Menlo,'DejaVu Sans Mono',consolas,'Courier New',monospace\">          <span style=\"color: #00d700; text-decoration-color: #00d700; font-weight: bold\">       + --&gt; </span><span style=\"color: #00d700; text-decoration-color: #00d700; font-weight: bold; text-decoration: underline\">John Smith</span>\n",
       "</pre>\n"
      ],
      "text/plain": [
       "          \u001b[1;38;5;40m       + --> \u001b[0m\u001b[1;4;38;5;40mJohn Smith\u001b[0m\n"
      ]
     },
     "metadata": {},
     "output_type": "display_data"
    },
    {
     "data": {
      "text/html": [
       "<pre style=\"margin:0px;;white-space:pre;overflow-x:auto;line-height:normal;font-family:Menlo,'DejaVu Sans Mono',consolas,'Courier New',monospace\">          <span style=\"color: #00d700; text-decoration-color: #00d700; font-weight: bold\">       + --&gt; ...others...</span>\n",
       "</pre>\n"
      ],
      "text/plain": [
       "          \u001b[1;38;5;40m       + --> \u001b[0m\u001b[1;38;5;40m...\u001b[0m\u001b[1;38;5;40mothers\u001b[0m\u001b[1;38;5;40m...\u001b[0m\n"
      ]
     },
     "metadata": {},
     "output_type": "display_data"
    },
    {
     "name": "stderr",
     "output_type": "stream",
     "text": [
      "2024-12-10 08:52:27,166 - tinytroupe - WARNING - [Rez Carter] Agent Rez Carter is acting in a loop. This may be a bug. Let's stop it here anyway.\n"
     ]
    },
    {
     "data": {
      "text/html": [
       "<pre style=\"margin:0px;;white-space:pre;overflow-x:auto;line-height:normal;font-family:Menlo,'DejaVu Sans Mono',consolas,'Courier New',monospace\"><span style=\"color: #00ffff; text-decoration-color: #00ffff; font-weight: bold; font-style: italic; text-decoration: underline\">Rez Carter</span><span style=\"color: #00ffff; text-decoration-color: #00ffff; font-weight: bold; font-style: italic\"> --&gt; </span><span style=\"color: #00ffff; text-decoration-color: #00ffff; font-weight: bold; font-style: italic; text-decoration: underline\">John Smith</span><span style=\"color: #00ffff; text-decoration-color: #00ffff; font-weight: bold; font-style: italic\">: [CONVERSATION] </span>\n",
       "<span style=\"color: #00ffff; text-decoration-color: #00ffff; font-weight: bold; font-style: italic\">                &gt; I understand. Investing always comes with risks, but Tesla's recent performance</span>\n",
       "<span style=\"color: #00ffff; text-decoration-color: #00ffff; font-weight: bold; font-style: italic\">                &gt; and future prospects are quite promising.</span>\n",
       "</pre>\n"
      ],
      "text/plain": [
       "\u001b[1;3;4;38;5;51mRez Carter\u001b[0m\u001b[1;3;38;5;51m --> \u001b[0m\u001b[1;3;4;38;5;51mJohn Smith\u001b[0m\u001b[1;3;38;5;51m: \u001b[0m\u001b[1;3;38;5;51m[\u001b[0m\u001b[1;3;38;5;51mCONVERSATION\u001b[0m\u001b[1;3;38;5;51m]\u001b[0m\u001b[1;3;38;5;51m \u001b[0m\n",
       "\u001b[1;3;38;5;51m                > I understand. Investing always comes with risks, but Tesla's recent performance\u001b[0m\n",
       "\u001b[1;3;38;5;51m                > and future prospects are quite promising.\u001b[0m\n"
      ]
     },
     "metadata": {},
     "output_type": "display_data"
    },
    {
     "data": {
      "text/html": [
       "<pre style=\"margin:0px;;white-space:pre;overflow-x:auto;line-height:normal;font-family:Menlo,'DejaVu Sans Mono',consolas,'Courier New',monospace\">          <span style=\"color: #00ffff; text-decoration-color: #00ffff; font-weight: bold; font-style: italic\">       + --&gt; </span><span style=\"color: #00ffff; text-decoration-color: #00ffff; font-weight: bold; font-style: italic; text-decoration: underline\">John Smith</span>\n",
       "</pre>\n"
      ],
      "text/plain": [
       "          \u001b[1;3;38;5;51m       + --> \u001b[0m\u001b[1;3;4;38;5;51mJohn Smith\u001b[0m\n"
      ]
     },
     "metadata": {},
     "output_type": "display_data"
    },
    {
     "data": {
      "text/html": [
       "<pre style=\"margin:0px;;white-space:pre;overflow-x:auto;line-height:normal;font-family:Menlo,'DejaVu Sans Mono',consolas,'Courier New',monospace\">          <span style=\"color: #00ffff; text-decoration-color: #00ffff; font-weight: bold; font-style: italic\">       + --&gt; </span><span style=\"color: #00ffff; text-decoration-color: #00ffff; font-weight: bold; font-style: italic; text-decoration: underline\">John Smith</span>\n",
       "</pre>\n"
      ],
      "text/plain": [
       "          \u001b[1;3;38;5;51m       + --> \u001b[0m\u001b[1;3;4;38;5;51mJohn Smith\u001b[0m\n"
      ]
     },
     "metadata": {},
     "output_type": "display_data"
    },
    {
     "data": {
      "text/html": [
       "<pre style=\"margin:0px;;white-space:pre;overflow-x:auto;line-height:normal;font-family:Menlo,'DejaVu Sans Mono',consolas,'Courier New',monospace\">          <span style=\"color: #00ffff; text-decoration-color: #00ffff; font-weight: bold; font-style: italic\">       + --&gt; ...others...</span>\n",
       "</pre>\n"
      ],
      "text/plain": [
       "          \u001b[1;3;38;5;51m       + --> \u001b[0m\u001b[1;3;38;5;51m...\u001b[0m\u001b[1;3;38;5;51mothers\u001b[0m\u001b[1;3;38;5;51m...\u001b[0m\n"
      ]
     },
     "metadata": {},
     "output_type": "display_data"
    },
    {
     "name": "stderr",
     "output_type": "stream",
     "text": [
      "2024-12-10 08:52:27,173 - tinytroupe - INFO - [Chat Room] Running world simulation step 4 of 4.\n"
     ]
    },
    {
     "data": {
      "text/html": [
       "<pre style=\"margin:0px;;white-space:pre;overflow-x:auto;line-height:normal;font-family:Menlo,'DejaVu Sans Mono',consolas,'Courier New',monospace\"><span style=\"color: #00ff00; text-decoration-color: #00ff00\">────────────────────────────────────────────── </span>Chat Room step <span style=\"color: #008080; text-decoration-color: #008080; font-weight: bold\">4</span> of <span style=\"color: #008080; text-decoration-color: #008080; font-weight: bold\">4</span><span style=\"color: #00ff00; text-decoration-color: #00ff00\"> ──────────────────────────────────────────────</span>\n",
       "</pre>\n"
      ],
      "text/plain": [
       "\u001b[92m────────────────────────────────────────────── \u001b[0mChat Room step \u001b[1;36m4\u001b[0m of \u001b[1;36m4\u001b[0m\u001b[92m ──────────────────────────────────────────────\u001b[0m\n"
      ]
     },
     "metadata": {},
     "output_type": "display_data"
    },
    {
     "name": "stderr",
     "output_type": "stream",
     "text": [
      "2024-12-10 08:52:27,174 - tinytroupe - INFO - [Chat Room] No timedelta provided, so the datetime was not advanced.\n"
     ]
    },
    {
     "data": {
      "text/html": [
       "<pre style=\"margin:0px;;white-space:pre;overflow-x:auto;line-height:normal;font-family:Menlo,'DejaVu Sans Mono',consolas,'Courier New',monospace\"><span style=\"color: #00d700; text-decoration-color: #00d700; font-weight: bold; text-decoration: underline\">John Smith</span><span style=\"color: #00d700; text-decoration-color: #00d700; font-weight: bold\"> acts: [TALK] </span>\n",
       "<span style=\"color: #00d700; text-decoration-color: #00d700; font-weight: bold\">                &gt; Thanks for your insights, Rez. It's reassuring to hear about Tesla's promising</span>\n",
       "<span style=\"color: #00d700; text-decoration-color: #00d700; font-weight: bold\">                &gt; future prospects.</span>\n",
       "</pre>\n"
      ],
      "text/plain": [
       "\u001b[1;4;38;5;40mJohn Smith\u001b[0m\u001b[1;38;5;40m acts: \u001b[0m\u001b[1;38;5;40m[\u001b[0m\u001b[1;38;5;40mTALK\u001b[0m\u001b[1;38;5;40m]\u001b[0m\u001b[1;38;5;40m \u001b[0m\n",
       "\u001b[1;38;5;40m                > Thanks for your insights, Rez. It's reassuring to hear about Tesla's promising\u001b[0m\n",
       "\u001b[1;38;5;40m                > future prospects.\u001b[0m\n"
      ]
     },
     "metadata": {},
     "output_type": "display_data"
    },
    {
     "data": {
      "text/html": [
       "<pre style=\"margin:0px;;white-space:pre;overflow-x:auto;line-height:normal;font-family:Menlo,'DejaVu Sans Mono',consolas,'Courier New',monospace\">          <span style=\"color: #00d700; text-decoration-color: #00d700; font-weight: bold\">       + --&gt; </span><span style=\"color: #00d700; text-decoration-color: #00d700; font-weight: bold; text-decoration: underline\">Rez Carter</span>\n",
       "</pre>\n"
      ],
      "text/plain": [
       "          \u001b[1;38;5;40m       + --> \u001b[0m\u001b[1;4;38;5;40mRez Carter\u001b[0m\n"
      ]
     },
     "metadata": {},
     "output_type": "display_data"
    },
    {
     "data": {
      "text/html": [
       "<pre style=\"margin:0px;;white-space:pre;overflow-x:auto;line-height:normal;font-family:Menlo,'DejaVu Sans Mono',consolas,'Courier New',monospace\">          <span style=\"color: #00d700; text-decoration-color: #00d700; font-weight: bold\">       + --&gt; </span><span style=\"color: #00d700; text-decoration-color: #00d700; font-weight: bold; text-decoration: underline\">Rez Carter</span>\n",
       "</pre>\n"
      ],
      "text/plain": [
       "          \u001b[1;38;5;40m       + --> \u001b[0m\u001b[1;4;38;5;40mRez Carter\u001b[0m\n"
      ]
     },
     "metadata": {},
     "output_type": "display_data"
    },
    {
     "data": {
      "text/html": [
       "<pre style=\"margin:0px;;white-space:pre;overflow-x:auto;line-height:normal;font-family:Menlo,'DejaVu Sans Mono',consolas,'Courier New',monospace\">          <span style=\"color: #00d700; text-decoration-color: #00d700; font-weight: bold\">       + --&gt; ...others...</span>\n",
       "</pre>\n"
      ],
      "text/plain": [
       "          \u001b[1;38;5;40m       + --> \u001b[0m\u001b[1;38;5;40m...\u001b[0m\u001b[1;38;5;40mothers\u001b[0m\u001b[1;38;5;40m...\u001b[0m\n"
      ]
     },
     "metadata": {},
     "output_type": "display_data"
    },
    {
     "name": "stderr",
     "output_type": "stream",
     "text": [
      "2024-12-10 08:56:53,446 - tinytroupe - WARNING - [John Smith] Agent John Smith is acting in a loop. This may be a bug. Let's stop it here anyway.\n"
     ]
    },
    {
     "data": {
      "text/html": [
       "<pre style=\"margin:0px;;white-space:pre;overflow-x:auto;line-height:normal;font-family:Menlo,'DejaVu Sans Mono',consolas,'Courier New',monospace\"><span style=\"color: #00ffff; text-decoration-color: #00ffff; font-weight: bold; font-style: italic; text-decoration: underline\">John Smith</span><span style=\"color: #00ffff; text-decoration-color: #00ffff; font-weight: bold; font-style: italic\"> --&gt; </span><span style=\"color: #00ffff; text-decoration-color: #00ffff; font-weight: bold; font-style: italic; text-decoration: underline\">Rez Carter</span><span style=\"color: #00ffff; text-decoration-color: #00ffff; font-weight: bold; font-style: italic\">: [CONVERSATION] </span>\n",
       "<span style=\"color: #00ffff; text-decoration-color: #00ffff; font-weight: bold; font-style: italic\">                &gt; Thanks for your insights, Rez. It's reassuring to hear about Tesla's promising</span>\n",
       "<span style=\"color: #00ffff; text-decoration-color: #00ffff; font-weight: bold; font-style: italic\">                &gt; future prospects.</span>\n",
       "</pre>\n"
      ],
      "text/plain": [
       "\u001b[1;3;4;38;5;51mJohn Smith\u001b[0m\u001b[1;3;38;5;51m --> \u001b[0m\u001b[1;3;4;38;5;51mRez Carter\u001b[0m\u001b[1;3;38;5;51m: \u001b[0m\u001b[1;3;38;5;51m[\u001b[0m\u001b[1;3;38;5;51mCONVERSATION\u001b[0m\u001b[1;3;38;5;51m]\u001b[0m\u001b[1;3;38;5;51m \u001b[0m\n",
       "\u001b[1;3;38;5;51m                > Thanks for your insights, Rez. It's reassuring to hear about Tesla's promising\u001b[0m\n",
       "\u001b[1;3;38;5;51m                > future prospects.\u001b[0m\n"
      ]
     },
     "metadata": {},
     "output_type": "display_data"
    },
    {
     "data": {
      "text/html": [
       "<pre style=\"margin:0px;;white-space:pre;overflow-x:auto;line-height:normal;font-family:Menlo,'DejaVu Sans Mono',consolas,'Courier New',monospace\">          <span style=\"color: #00ffff; text-decoration-color: #00ffff; font-weight: bold; font-style: italic\">       + --&gt; </span><span style=\"color: #00ffff; text-decoration-color: #00ffff; font-weight: bold; font-style: italic; text-decoration: underline\">Rez Carter</span>\n",
       "</pre>\n"
      ],
      "text/plain": [
       "          \u001b[1;3;38;5;51m       + --> \u001b[0m\u001b[1;3;4;38;5;51mRez Carter\u001b[0m\n"
      ]
     },
     "metadata": {},
     "output_type": "display_data"
    },
    {
     "data": {
      "text/html": [
       "<pre style=\"margin:0px;;white-space:pre;overflow-x:auto;line-height:normal;font-family:Menlo,'DejaVu Sans Mono',consolas,'Courier New',monospace\">          <span style=\"color: #00ffff; text-decoration-color: #00ffff; font-weight: bold; font-style: italic\">       + --&gt; </span><span style=\"color: #00ffff; text-decoration-color: #00ffff; font-weight: bold; font-style: italic; text-decoration: underline\">Rez Carter</span>\n",
       "</pre>\n"
      ],
      "text/plain": [
       "          \u001b[1;3;38;5;51m       + --> \u001b[0m\u001b[1;3;4;38;5;51mRez Carter\u001b[0m\n"
      ]
     },
     "metadata": {},
     "output_type": "display_data"
    },
    {
     "data": {
      "text/html": [
       "<pre style=\"margin:0px;;white-space:pre;overflow-x:auto;line-height:normal;font-family:Menlo,'DejaVu Sans Mono',consolas,'Courier New',monospace\">          <span style=\"color: #00ffff; text-decoration-color: #00ffff; font-weight: bold; font-style: italic\">       + --&gt; ...others...</span>\n",
       "</pre>\n"
      ],
      "text/plain": [
       "          \u001b[1;3;38;5;51m       + --> \u001b[0m\u001b[1;3;38;5;51m...\u001b[0m\u001b[1;3;38;5;51mothers\u001b[0m\u001b[1;3;38;5;51m...\u001b[0m\n"
      ]
     },
     "metadata": {},
     "output_type": "display_data"
    },
    {
     "data": {
      "text/html": [
       "<pre style=\"margin:0px;;white-space:pre;overflow-x:auto;line-height:normal;font-family:Menlo,'DejaVu Sans Mono',consolas,'Courier New',monospace\"><span style=\"color: #00d700; text-decoration-color: #00d700; font-weight: bold; text-decoration: underline\">Rez Carter</span><span style=\"color: #00d700; text-decoration-color: #00d700; font-weight: bold\"> acts: [TALK] </span>\n",
       "<span style=\"color: #00d700; text-decoration-color: #00d700; font-weight: bold\">                &gt; You're welcome, John. If you have any other questions or need further insights,</span>\n",
       "<span style=\"color: #00d700; text-decoration-color: #00d700; font-weight: bold\">                &gt; feel free to reach out.</span>\n",
       "</pre>\n"
      ],
      "text/plain": [
       "\u001b[1;4;38;5;40mRez Carter\u001b[0m\u001b[1;38;5;40m acts: \u001b[0m\u001b[1;38;5;40m[\u001b[0m\u001b[1;38;5;40mTALK\u001b[0m\u001b[1;38;5;40m]\u001b[0m\u001b[1;38;5;40m \u001b[0m\n",
       "\u001b[1;38;5;40m                > You're welcome, John. If you have any other questions or need further insights,\u001b[0m\n",
       "\u001b[1;38;5;40m                > feel free to reach out.\u001b[0m\n"
      ]
     },
     "metadata": {},
     "output_type": "display_data"
    },
    {
     "data": {
      "text/html": [
       "<pre style=\"margin:0px;;white-space:pre;overflow-x:auto;line-height:normal;font-family:Menlo,'DejaVu Sans Mono',consolas,'Courier New',monospace\">          <span style=\"color: #00d700; text-decoration-color: #00d700; font-weight: bold\">       + --&gt; </span><span style=\"color: #00d700; text-decoration-color: #00d700; font-weight: bold; text-decoration: underline\">John Smith</span>\n",
       "</pre>\n"
      ],
      "text/plain": [
       "          \u001b[1;38;5;40m       + --> \u001b[0m\u001b[1;4;38;5;40mJohn Smith\u001b[0m\n"
      ]
     },
     "metadata": {},
     "output_type": "display_data"
    },
    {
     "data": {
      "text/html": [
       "<pre style=\"margin:0px;;white-space:pre;overflow-x:auto;line-height:normal;font-family:Menlo,'DejaVu Sans Mono',consolas,'Courier New',monospace\">          <span style=\"color: #00d700; text-decoration-color: #00d700; font-weight: bold\">       + --&gt; </span><span style=\"color: #00d700; text-decoration-color: #00d700; font-weight: bold; text-decoration: underline\">John Smith</span>\n",
       "</pre>\n"
      ],
      "text/plain": [
       "          \u001b[1;38;5;40m       + --> \u001b[0m\u001b[1;4;38;5;40mJohn Smith\u001b[0m\n"
      ]
     },
     "metadata": {},
     "output_type": "display_data"
    },
    {
     "data": {
      "text/html": [
       "<pre style=\"margin:0px;;white-space:pre;overflow-x:auto;line-height:normal;font-family:Menlo,'DejaVu Sans Mono',consolas,'Courier New',monospace\">          <span style=\"color: #00d700; text-decoration-color: #00d700; font-weight: bold\">       + --&gt; ...others...</span>\n",
       "</pre>\n"
      ],
      "text/plain": [
       "          \u001b[1;38;5;40m       + --> \u001b[0m\u001b[1;38;5;40m...\u001b[0m\u001b[1;38;5;40mothers\u001b[0m\u001b[1;38;5;40m...\u001b[0m\n"
      ]
     },
     "metadata": {},
     "output_type": "display_data"
    },
    {
     "name": "stderr",
     "output_type": "stream",
     "text": [
      "2024-12-10 08:58:40,408 - tinytroupe - WARNING - [Rez Carter] Agent Rez Carter is acting in a loop. This may be a bug. Let's stop it here anyway.\n"
     ]
    },
    {
     "data": {
      "text/html": [
       "<pre style=\"margin:0px;;white-space:pre;overflow-x:auto;line-height:normal;font-family:Menlo,'DejaVu Sans Mono',consolas,'Courier New',monospace\"><span style=\"color: #00ffff; text-decoration-color: #00ffff; font-weight: bold; font-style: italic; text-decoration: underline\">Rez Carter</span><span style=\"color: #00ffff; text-decoration-color: #00ffff; font-weight: bold; font-style: italic\"> --&gt; </span><span style=\"color: #00ffff; text-decoration-color: #00ffff; font-weight: bold; font-style: italic; text-decoration: underline\">John Smith</span><span style=\"color: #00ffff; text-decoration-color: #00ffff; font-weight: bold; font-style: italic\">: [CONVERSATION] </span>\n",
       "<span style=\"color: #00ffff; text-decoration-color: #00ffff; font-weight: bold; font-style: italic\">                &gt; You're welcome, John. If you have any other questions or need further insights,</span>\n",
       "<span style=\"color: #00ffff; text-decoration-color: #00ffff; font-weight: bold; font-style: italic\">                &gt; feel free to reach out.</span>\n",
       "</pre>\n"
      ],
      "text/plain": [
       "\u001b[1;3;4;38;5;51mRez Carter\u001b[0m\u001b[1;3;38;5;51m --> \u001b[0m\u001b[1;3;4;38;5;51mJohn Smith\u001b[0m\u001b[1;3;38;5;51m: \u001b[0m\u001b[1;3;38;5;51m[\u001b[0m\u001b[1;3;38;5;51mCONVERSATION\u001b[0m\u001b[1;3;38;5;51m]\u001b[0m\u001b[1;3;38;5;51m \u001b[0m\n",
       "\u001b[1;3;38;5;51m                > You're welcome, John. If you have any other questions or need further insights,\u001b[0m\n",
       "\u001b[1;3;38;5;51m                > feel free to reach out.\u001b[0m\n"
      ]
     },
     "metadata": {},
     "output_type": "display_data"
    },
    {
     "data": {
      "text/html": [
       "<pre style=\"margin:0px;;white-space:pre;overflow-x:auto;line-height:normal;font-family:Menlo,'DejaVu Sans Mono',consolas,'Courier New',monospace\">          <span style=\"color: #00ffff; text-decoration-color: #00ffff; font-weight: bold; font-style: italic\">       + --&gt; </span><span style=\"color: #00ffff; text-decoration-color: #00ffff; font-weight: bold; font-style: italic; text-decoration: underline\">John Smith</span>\n",
       "</pre>\n"
      ],
      "text/plain": [
       "          \u001b[1;3;38;5;51m       + --> \u001b[0m\u001b[1;3;4;38;5;51mJohn Smith\u001b[0m\n"
      ]
     },
     "metadata": {},
     "output_type": "display_data"
    },
    {
     "data": {
      "text/html": [
       "<pre style=\"margin:0px;;white-space:pre;overflow-x:auto;line-height:normal;font-family:Menlo,'DejaVu Sans Mono',consolas,'Courier New',monospace\">          <span style=\"color: #00ffff; text-decoration-color: #00ffff; font-weight: bold; font-style: italic\">       + --&gt; </span><span style=\"color: #00ffff; text-decoration-color: #00ffff; font-weight: bold; font-style: italic; text-decoration: underline\">John Smith</span>\n",
       "</pre>\n"
      ],
      "text/plain": [
       "          \u001b[1;3;38;5;51m       + --> \u001b[0m\u001b[1;3;4;38;5;51mJohn Smith\u001b[0m\n"
      ]
     },
     "metadata": {},
     "output_type": "display_data"
    },
    {
     "data": {
      "text/html": [
       "<pre style=\"margin:0px;;white-space:pre;overflow-x:auto;line-height:normal;font-family:Menlo,'DejaVu Sans Mono',consolas,'Courier New',monospace\">          <span style=\"color: #00ffff; text-decoration-color: #00ffff; font-weight: bold; font-style: italic\">       + --&gt; ...others...</span>\n",
       "</pre>\n"
      ],
      "text/plain": [
       "          \u001b[1;3;38;5;51m       + --> \u001b[0m\u001b[1;3;38;5;51m...\u001b[0m\u001b[1;3;38;5;51mothers\u001b[0m\u001b[1;3;38;5;51m...\u001b[0m\n"
      ]
     },
     "metadata": {},
     "output_type": "display_data"
    }
   ],
   "source": [
    "person_1.listen('''Is tesla FSD is good for hardware 3?''')\n",
    "world.run(4)"
   ]
  },
  {
   "cell_type": "code",
   "execution_count": 13,
   "metadata": {},
   "outputs": [],
   "source": [
    "from tinytroupe.extraction import ResultsExtractor"
   ]
  },
  {
   "cell_type": "code",
   "execution_count": 14,
   "metadata": {},
   "outputs": [],
   "source": [
    "situation = \"\""
   ]
  },
  {
   "cell_type": "code",
   "execution_count": 15,
   "metadata": {},
   "outputs": [
    {
     "name": "stdout",
     "output_type": "stream",
     "text": [
      "Extraction raw result message: {'role': 'assistant', 'content': '{\"choice\": \"reassuring to hear about Tesla\\'s promising future prospects\"}'}\n",
      "Extraction raw result message: {'role': 'assistant', 'content': '{\"choice\": \"Tesla\\'s recent performance and future prospects are quite promising.\"}'}\n"
     ]
    }
   ],
   "source": [
    "extractor = ResultsExtractor()\n",
    "extraction_objective=\"will tesla is good to invest in next 5 years.\"\n",
    "\n",
    "choices =[]\n",
    "\n",
    "for person in [person_1, person_2]:\n",
    "    res = extractor.extract_results_from_agent(person,\n",
    "                                    extraction_objective=extraction_objective,\n",
    "                                    situation=situation,\n",
    "                                    verbose=True)\n",
    "\n",
    "    choices.append(res)"
   ]
  }
 ],
 "metadata": {
  "kernelspec": {
   "display_name": "tinytroupe",
   "language": "python",
   "name": "python3"
  },
  "language_info": {
   "codemirror_mode": {
    "name": "ipython",
    "version": 3
   },
   "file_extension": ".py",
   "mimetype": "text/x-python",
   "name": "python",
   "nbconvert_exporter": "python",
   "pygments_lexer": "ipython3",
   "version": "3.10.15"
  }
 },
 "nbformat": 4,
 "nbformat_minor": 2
}
