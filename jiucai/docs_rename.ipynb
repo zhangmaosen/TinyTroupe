{
 "cells": [
  {
   "cell_type": "code",
   "execution_count": null,
   "metadata": {},
   "outputs": [],
   "source": [
    "from pathlib import Path\n",
    "import json\n",
    "\n",
    "# 创建 Path 对象，指向 x 目录\n",
    "x_dir = Path('data_china_new_translated')\n",
    "\n",
    "# 遍历 x 目录下的所有 json 文件\n",
    "for json_file in x_dir.glob('*.json'):\n",
    "    content_json = json.load(open(json_file, 'r', encoding='utf-8'))\n",
    "    # 获取文件名和文件扩展名\n",
    "    file_stem = json_file.stem\n",
    "    file_suffix = json_file.suffix\n",
    "    \n",
    "    # 定义新的文件名，这里假设你想在文件名前加上 \"new_\" 前缀\n",
    "    new_file_name = f\"this is Record of Questions from Shareholders and Responses from Company Executives which's security code {content_json['SECURITY_CODE']}\"\n",
    "    \n",
    "    # 构建新的文件路径\n",
    "    new_file_path = x_dir / new_file_name\n",
    "    \n",
    "    # 重命名文件\n",
    "    json_file.rename(new_file_path)"
   ]
  }
 ],
 "metadata": {
  "kernelspec": {
   "display_name": "tinytroupe",
   "language": "python",
   "name": "python3"
  },
  "language_info": {
   "codemirror_mode": {
    "name": "ipython",
    "version": 3
   },
   "file_extension": ".py",
   "mimetype": "text/x-python",
   "name": "python",
   "nbconvert_exporter": "python",
   "pygments_lexer": "ipython3",
   "version": "3.10.15"
  }
 },
 "nbformat": 4,
 "nbformat_minor": 2
}
