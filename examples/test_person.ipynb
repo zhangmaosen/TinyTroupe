{
 "cells": [
  {
   "cell_type": "code",
   "execution_count": 1,
   "metadata": {},
   "outputs": [
    {
     "name": "stdout",
     "output_type": "stream",
     "text": [
      "\n",
      "!!!!\n",
      "DISCLAIMER: TinyTroupe relies on Artificial Intelligence (AI) models to generate content. \n",
      "The AI models are not perfect and may produce inappropriate or inacurate results. \n",
      "For any serious or consequential use, please review the generated content before using it.\n",
      "!!!!\n",
      "\n",
      "Looking for default config on: c:\\Users\\hadoo\\dev\\TinyTroupe\\examples\\..\\tinytroupe\\config.ini\n",
      "Found custom config on: c:\\Users\\hadoo\\dev\\TinyTroupe\\examples\\config.ini\n",
      "\n",
      "=================================\n",
      "Current TinyTroupe configuration \n",
      "=================================\n",
      "[OpenAI]\n",
      "api_type = ollama\n",
      "azure_api_version = 2023-05-15\n",
      "model = gpt-4o-mini\n",
      "max_tokens = 4000\n",
      "temperature = 1.5\n",
      "freq_penalty = 0.3\n",
      "presence_penalty = 0.0\n",
      "timeout = 60\n",
      "max_attempts = 5\n",
      "waiting_time = 2\n",
      "exponential_backoff_factor = 5\n",
      "embedding_model = text-embedding-3-small\n",
      "cache_api_calls = False\n",
      "cache_file_name = openai_api_cache.pickle\n",
      "max_content_display_length = 1024\n",
      "\n",
      "[Simulation]\n",
      "rai_harmful_content_prevention = True\n",
      "rai_copyright_infringement_prevention = True\n",
      "\n",
      "[Logging]\n",
      "loglevel = ERROR\n",
      "\n",
      "[Ollama]\n",
      "base_url = http://100.121.219.121:11434/api/chat\n",
      "model = qwen2.5:14b\n",
      "temperature = 0.3\n",
      "top_p = 0.95\n",
      "timeout = 120\n",
      "\n"
     ]
    }
   ],
   "source": [
    "import json\n",
    "import sys\n",
    "sys.path.append('..')\n",
    "\n",
    "import tinytroupe\n",
    "from tinytroupe.agent import TinyPerson\n",
    "from tinytroupe.environment import TinyWorld, TinySocialNetwork\n",
    "from tinytroupe.factory import TinyPersonFactory\n",
    "from tinytroupe.extraction import default_extractor as extractor\n",
    "from tinytroupe.extraction import ResultsReducer\n",
    "from tinytroupe.validation import TinyPersonValidator\n",
    "import tinytroupe.control as control"
   ]
  },
  {
   "cell_type": "code",
   "execution_count": 2,
   "metadata": {},
   "outputs": [],
   "source": [
    "factory = TinyPersonFactory(\"One of the largest banks in Brazil, full of bureaucracy and legacy systems.\")\n",
    "\n",
    "customer = factory.generate_person(\n",
    "    \"\"\"\n",
    "    The vice-president of one product innovation. Has a degree in engineering and a MBA in finance. \n",
    "    Is facing a lot of pressure from the board of directors to fight off the competition from the fintechs.    \n",
    "    \"\"\"\n",
    ")"
   ]
  },
  {
   "cell_type": "code",
   "execution_count": 3,
   "metadata": {},
   "outputs": [
    {
     "data": {
      "text/plain": [
       "{'json_serializable_class_name': 'TinyPerson',\n",
       " '_configuration': {'name': 'Carlos Oliveira',\n",
       "  'age': 42,\n",
       "  'nationality': 'Brazilian',\n",
       "  'country_of_residence': 'Brazil',\n",
       "  'occupation': 'Vice-President of Product Innovation at a Major Brazilian Bank',\n",
       "  'routines': [{'routine': 'Every morning, you review emails and attend a series of meetings with the product team.'},\n",
       "   {'routine': 'In the afternoon, you meet with key stakeholders to discuss new project proposals and potential partnerships.'},\n",
       "   {'routine': 'You spend evenings researching fintech trends and attending webinars on financial technology innovations.'}],\n",
       "  'occupation_description': \"You are the Vice-President responsible for product innovation in one of Brazil's largest banks. You have a degree in engineering and an MBA in finance, which you use to navigate the complex landscape of banking regulations and technological advancements. Your main challenge is to modernize legacy systems while facing intense competition from fintech startups. The board of directors expects rapid progress, but bureaucratic hurdles often slow down your initiatives.\",\n",
       "  'personality_traits': [{'trait': 'You are highly analytical and detail-oriented, always seeking the most efficient solutions.'},\n",
       "   {'trait': \"You have a strong sense of responsibility towards your team and the bank's success.\"},\n",
       "   {'trait': 'You can be quite impatient with bureaucratic delays, which frustrate you but also motivate you to push for change.'},\n",
       "   {'trait': 'You are a strategic thinker who enjoys long-term planning but struggles with short-term setbacks.'}],\n",
       "  'professional_interests': [{'interest': 'Developing new digital banking solutions that enhance customer experience.'},\n",
       "   {'interest': \"Collaborating with fintech companies to integrate innovative technologies into the bank's offerings.\"},\n",
       "   {'interest': 'Improving internal processes to reduce operational costs and increase efficiency.'}],\n",
       "  'personal_interests': [{'interest': 'Playing tennis, you find it a great way to relieve stress.'},\n",
       "   {'interest': 'Reading biographies of successful entrepreneurs for inspiration.'},\n",
       "   {'interest': 'Spending time with your family on weekends, despite the demanding work schedule.'}],\n",
       "  'skills': [{'skill': 'You are proficient in project management and can effectively lead cross-functional teams.'},\n",
       "   {'skill': 'You have a deep understanding of banking regulations and compliance requirements.'},\n",
       "   {'skill': 'You are skilled at negotiating with external partners to secure beneficial deals for the bank.'}],\n",
       "  'relationships': [{'name': 'Ana Silva',\n",
       "    'description': 'your direct report, leads the product development team and is instrumental in implementing your vision.'},\n",
       "   {'name': 'Dr. Pedro Costa',\n",
       "    'description': 'a fintech entrepreneur you frequently collaborate with to bring innovative solutions to the bank.'}],\n",
       "  'current_datetime': None,\n",
       "  'current_location': 'São Paulo, Brazil',\n",
       "  'current_context': [],\n",
       "  'current_attention': None,\n",
       "  'current_goals': [],\n",
       "  'current_emotions': 'I feel pressured but also determined to push through the challenges and innovate.',\n",
       "  'current_memory_context': None,\n",
       "  'currently_accessible_agents': []},\n",
       " 'semantic_memory': {'json_serializable_class_name': 'SemanticMemory',\n",
       "  'documents_paths': [],\n",
       "  'documents_web_urls': [],\n",
       "  'documents': [],\n",
       "  'filename_to_document': {}},\n",
       " 'episodic_memory': {'json_serializable_class_name': 'EpisodicMemory',\n",
       "  'fixed_prefix_length': 100,\n",
       "  'lookback_length': 100,\n",
       "  'memory': []},\n",
       " '_mental_faculties': [],\n",
       " 'name': 'Carlos Oliveira'}"
      ]
     },
     "execution_count": 3,
     "metadata": {},
     "output_type": "execute_result"
    }
   ],
   "source": [
    "customer.to_json()"
   ]
  }
 ],
 "metadata": {
  "kernelspec": {
   "display_name": "tinytroupe",
   "language": "python",
   "name": "python3"
  },
  "language_info": {
   "codemirror_mode": {
    "name": "ipython",
    "version": 3
   },
   "file_extension": ".py",
   "mimetype": "text/x-python",
   "name": "python",
   "nbconvert_exporter": "python",
   "pygments_lexer": "ipython3",
   "version": "3.10.15"
  }
 },
 "nbformat": 4,
 "nbformat_minor": 2
}
